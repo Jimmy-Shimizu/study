{
 "cells": [
  {
   "cell_type": "markdown",
   "metadata": {},
   "source": [
    "### LASSO\n",
    "LASSOはleast absolute shrinkage and selection operatorの略  \n",
    "何かなと思ったらL1正則化のことをLASSOと呼ぶらしい  \n",
    "$$\n",
    "J(w) = E(w) + \\lambda \\sum_{m=0}^{M-1} |w_m|\n",
    "$$"
   ]
  },
  {
   "cell_type": "markdown",
   "metadata": {},
   "source": [
    "L1正則化はL2正則化と比べてパラメータの学習結果がスパースになりやすい  "
   ]
  },
  {
   "cell_type": "markdown",
   "metadata": {},
   "source": [
    "L1正則化はL2正則化のようにwで偏微分ができない(|w|で偏微分不可能な点を含む)  \n",
    "#### LASSOの利点\n",
    "スパースな学習結果が得られるので説明変数が多い時に取捨選択を行なってくれる  \n",
    "- モデルの推定と変数選択を同時に行える"
   ]
  },
  {
   "cell_type": "markdown",
   "metadata": {},
   "source": [
    "### $L_P$ノルム(ノルム一般化)\n",
    "$$\n",
    "{\\bf x} = (x_1, ... , x_n)\n",
    "の時，\\\\\n",
    "||x||_P =(|x_1|^P +|x_2|^P + ... + |x_n|^P)^{1/P}\n",
    "$$"
   ]
  },
  {
   "cell_type": "markdown",
   "metadata": {},
   "source": [
    "を$L_p$ノルムと定義する"
   ]
  },
  {
   "cell_type": "markdown",
   "metadata": {},
   "source": [
    "$n=2$の時\n",
    "- L1ノルムは$x_1, x_2$のマンハッタン距離  \n",
    "- L2は$x_1, x_2$ユークリッド距離"
   ]
  }
 ],
 "metadata": {
  "kernelspec": {
   "display_name": "Python 3",
   "language": "python",
   "name": "python3"
  },
  "language_info": {
   "codemirror_mode": {
    "name": "ipython",
    "version": 3
   },
   "file_extension": ".py",
   "mimetype": "text/x-python",
   "name": "python",
   "nbconvert_exporter": "python",
   "pygments_lexer": "ipython3",
   "version": "3.6.5"
  }
 },
 "nbformat": 4,
 "nbformat_minor": 2
}
