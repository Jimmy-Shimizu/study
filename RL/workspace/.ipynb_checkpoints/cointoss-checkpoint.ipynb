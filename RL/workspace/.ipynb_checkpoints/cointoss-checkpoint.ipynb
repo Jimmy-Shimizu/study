{
 "cells": [
  {
   "cell_type": "code",
   "execution_count": 1,
   "id": "d5866b5a",
   "metadata": {},
   "outputs": [],
   "source": [
    "#Epsilon-Greedy法\n",
    "import random\n",
    "import numpy as np"
   ]
  },
  {
   "cell_type": "code",
   "execution_count": 4,
   "id": "e9b1d350",
   "metadata": {},
   "outputs": [],
   "source": [
    "class CoinToss():\n",
    "    def __init__(self, head_probs, max_episode_steps=30):\n",
    "        self.head_probs = head_probs\n",
    "        self.max_episode_steps = max_episode_steps \n",
    "        self.toss_count = 0\n",
    "        \n",
    "    def __len__(self):\n",
    "        return len(self.head_probs)\n",
    "    \n",
    "    def step(self, action):\n",
    "        final = self.max_episode_steps - 1\n",
    "        if self.toss_count > final:\n",
    "            raise Exception(\"The step count exceeded maximum. \\\n",
    "            Please reset env.\")\n",
    "        else:\n",
    "            done = True if self.toss_count == final else False\n",
    "            \n",
    "        if action >= len(self.head_probs):\n",
    "            raise Exception(\"The No.{} coin doesn't exist.\".format(action))\n",
    "        else:\n",
    "            head_prob = self.head_probs[action]\n",
    "            if random.random() < head_prob:\n",
    "                reward = 1.0\n",
    "            else:\n",
    "                reward = 0.0\n",
    "            self.toss_count += 1\n",
    "            return reward, done"
   ]
  },
  {
   "cell_type": "code",
   "execution_count": 10,
   "id": "69f4cf79",
   "metadata": {},
   "outputs": [],
   "source": [
    "class EpsilonGreedyAgent():\n",
    "    def __init__(self, epsilon):\n",
    "        self.epsilon = epsilon\n",
    "        self.V = []\n",
    "        \n",
    "    def policy(self):\n",
    "        coins = range(len(self.V))\n",
    "        if random.random() < self.epsilon:\n",
    "            return random.choice(coins)\n",
    "        else:\n",
    "            return np.argmax(self.V)\n",
    "        \n",
    "    def play(self, env):\n",
    "        N = [0] * len(env)\n",
    "        self.V = [0] * len(env)\n",
    "        \n",
    "        env.reset()\n",
    "        done = False\n",
    "        rewards = []\n",
    "        while not done:\n",
    "            selected_coin = self.policy()\n",
    "            reward, done = env.step(selected_coin)\n",
    "            rewards.append(reward)\n",
    "            \n",
    "            n = N[selected_coin]\n",
    "            coin_average = self.V[selected_coin]\n",
    "            new_average = self.V[selected_coin]\n",
    "            new_average = (coin_average * n + reward) / (n + 1)\n",
    "            N[selected_coin] += 1\n",
    "            self.V[selected_coin] = new_average\n",
    "            \n",
    "        return rewards"
   ]
  },
  {
   "cell_type": "code",
   "execution_count": 11,
   "id": "b33e44c4",
   "metadata": {},
   "outputs": [],
   "source": [
    "import pandas as pd\n",
    "import matplotlib.pyplot as plt\n",
    "\n",
    "env = CoinToss([0.1, 0.5, 0.1, 0.9, 0.1])\n",
    "epsilons = [0.0, 0.1, 0.2, 0.5, 0.8]\n",
    "game_steps = list(range(10, 310, 10))"
   ]
  },
  {
   "cell_type": "code",
   "execution_count": 12,
   "id": "153c81a2",
   "metadata": {},
   "outputs": [
    {
     "data": {
      "text/plain": [
       "[10,\n",
       " 20,\n",
       " 30,\n",
       " 40,\n",
       " 50,\n",
       " 60,\n",
       " 70,\n",
       " 80,\n",
       " 90,\n",
       " 100,\n",
       " 110,\n",
       " 120,\n",
       " 130,\n",
       " 140,\n",
       " 150,\n",
       " 160,\n",
       " 170,\n",
       " 180,\n",
       " 190,\n",
       " 200,\n",
       " 210,\n",
       " 220,\n",
       " 230,\n",
       " 240,\n",
       " 250,\n",
       " 260,\n",
       " 270,\n",
       " 280,\n",
       " 290,\n",
       " 300]"
      ]
     },
     "execution_count": 12,
     "metadata": {},
     "output_type": "execute_result"
    }
   ],
   "source": [
    "list(range(10, 310, 10))"
   ]
  },
  {
   "cell_type": "code",
   "execution_count": null,
   "id": "e8995fe5",
   "metadata": {},
   "outputs": [],
   "source": []
  }
 ],
 "metadata": {
  "kernelspec": {
   "display_name": "Python 3 (ipykernel)",
   "language": "python",
   "name": "python3"
  },
  "language_info": {
   "codemirror_mode": {
    "name": "ipython",
    "version": 3
   },
   "file_extension": ".py",
   "mimetype": "text/x-python",
   "name": "python",
   "nbconvert_exporter": "python",
   "pygments_lexer": "ipython3",
   "version": "3.7.11"
  }
 },
 "nbformat": 4,
 "nbformat_minor": 5
}
