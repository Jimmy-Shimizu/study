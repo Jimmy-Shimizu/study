{
 "cells": [
  {
   "cell_type": "markdown",
   "metadata": {},
   "source": [
    "### CDN\n",
    "Content Delivery Network  \n",
    "最高負荷の時とかにサーバーの負荷を下げるために使われるレンタルサーバーのこと  \n",
    "\n"
   ]
  },
  {
   "cell_type": "markdown",
   "metadata": {},
   "source": [
    "### DNS\n",
    "Domain name system\n",
    "インターネット上のホスト名とかメールのドメイン名とIPアドレスの対応付を管理するために使用されてるシステム  \n",
    "\n",
    "#### Aレコード\n",
    "Adress recodeのこと  \n",
    "ドメインをIPアドレスに書き換えるレコード"
   ]
  },
  {
   "cell_type": "markdown",
   "metadata": {},
   "source": [
    "### S3\n",
    "Simple Storage Service\n",
    "\n",
    "### IAMユーザ\n",
    "Identity and Access Management\n",
    "AWSへのアクセス権限を人やAWS以外のサーバに付与するためのもの。\n",
    "\n",
    "### ALB\n",
    "Application Load Balancer  \n",
    "webからのアクセスを分散させる"
   ]
  },
  {
   "cell_type": "code",
   "execution_count": null,
   "metadata": {},
   "outputs": [],
   "source": []
  }
 ],
 "metadata": {
  "kernelspec": {
   "display_name": "Python 3",
   "language": "python",
   "name": "python3"
  },
  "language_info": {
   "codemirror_mode": {
    "name": "ipython",
    "version": 3
   },
   "file_extension": ".py",
   "mimetype": "text/x-python",
   "name": "python",
   "nbconvert_exporter": "python",
   "pygments_lexer": "ipython3",
   "version": "3.7.4"
  }
 },
 "nbformat": 4,
 "nbformat_minor": 2
}
