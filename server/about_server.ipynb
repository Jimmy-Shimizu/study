{
 "cells": [
  {
   "cell_type": "markdown",
   "metadata": {},
   "source": [
    "### CDN\n",
    "Content Delivery Network  \n",
    "最高負荷の時とかにサーバーの負荷を下げるために使われるレンタルサーバーのこと  \n",
    "\n"
   ]
  },
  {
   "cell_type": "markdown",
   "metadata": {},
   "source": [
    "### DNS\n",
    "Domain name system\n",
    "インターネット上のホスト名とかメールのドメイン名とIPアドレスの対応付を管理するために使用されてるシステム  \n",
    "\n",
    "#### Aレコード\n",
    "Adress recodeのこと  \n",
    "ドメインをIPアドレスに書き換えるレコード  \n",
    "\n",
    "### SSLサーバ証明書\n",
    "通信が暗号化されていることの保証  \n",
    "\n",
    "### VPS\n",
    "バーチャル・プライベート・サーバ\n",
    "一台の物理的なサーバの上に仮想的に何台かサーバコンピュータを起動すること"
   ]
  },
  {
   "cell_type": "markdown",
   "metadata": {},
   "source": [
    "## AWS関連\n",
    "### S3\n",
    "Simple Storage Service\n",
    "\n",
    "### IAMユーザ\n",
    "Identity and Access Management\n",
    "AWSへのアクセス権限を人やAWS以外のサーバに付与するためのもの。\n",
    "\n",
    "### ALB\n",
    "Application Load Balancer  \n",
    "webからのアクセスを分散させる\n",
    "\n",
    "### Amazon EC2\n",
    "Amazon Elastic Compute Cloud\n",
    "\n",
    "### AZ\n",
    "Availability Zone\n",
    "物理的、ソフトウェア的に自律しているデータセンタの集合の単位です。\n",
    "\n",
    "### Auto Scaling Group\n",
    "インスタンス数の維持と自動スケーリングをする  \n",
    "\n",
    "### RDS\n",
    "Relational Database Service\n",
    "データベースのセットアップ・スケール・オペレーション \n",
    "\n",
    "### CloudFront\n",
    "グローバルなコンテンツ配信ネットワーク  \n",
    "コンテンツのダウンロード速度を向上させる"
   ]
  },
  {
   "cell_type": "markdown",
   "metadata": {},
   "source": [
    "## エンジニアリング全般\n",
    "### ルーティング\n",
    "データ配送経路の決定をすること  \n",
    "\n",
    "### レプリケーション  \n",
    "データのレプリカを別コンピュータ上に作成しつつデータの一貫性を保つこと  \n",
    "リアルタイムに更新を反映させて内容を同期させたりとか\n",
    "\n",
    "### デプロイ  \n",
    "ソフトウェアシステムを利用可能にする活動全般"
   ]
  }
 ],
 "metadata": {
  "kernelspec": {
   "display_name": "Python 3",
   "language": "python",
   "name": "python3"
  },
  "language_info": {
   "codemirror_mode": {
    "name": "ipython",
    "version": 3
   },
   "file_extension": ".py",
   "mimetype": "text/x-python",
   "name": "python",
   "nbconvert_exporter": "python",
   "pygments_lexer": "ipython3",
   "version": "3.7.4"
  }
 },
 "nbformat": 4,
 "nbformat_minor": 2
}
