{
 "cells": [
  {
   "cell_type": "markdown",
   "metadata": {},
   "source": [
    "## 隠れマルコフモデル\n",
    "### 完全分解変分推論  \n",
    "ポアソン観測モデルによる隠れマルコフモデルに対して  \n",
    "変分推論による事後分布の近似アルゴリズムを求める  \n",
    "$$\n",
    "p(S, \\lambda , A, \\pi | X) \\approx { \\prod_{n=1}^N q(s_n)}q(\\lambda, A, \\pi)\n",
    "$$\n",
    "S:状態系列($s_1, ..., s_n$時間依存を表す)  \n",
    "$\\lambda$:ポワソン分布のパラメータ  \n",
    "A: 遷移確率行列  \n",
    "$\\pi$:初期確率  "
   ]
  },
  {
   "cell_type": "markdown",
   "metadata": {},
   "source": [
    "- パラメータと潜在変数に関して分解→共起関係を無視  \n",
    "- さらに潜在変数の時間方向も分解→$s_{k-1}$から$s_k$に遷移する関係性を無視  \n",
    "    - q(S)に対して時系列方向の分解を仮定  \n",
    "→これを完全分解変分推論という  "
   ]
  },
  {
   "cell_type": "markdown",
   "metadata": {},
   "source": [
    "$$\n",
    "\\begin{align}\n",
    "    log q(\\lambda,\\pi, A) = \\sum_{n=1}^N \\langle log p(S, \\lambda, A, \\pi, X) \\rangle_{q(s_n)} \\\\\n",
    "    =\\sum_{n=1}^N \\langle log p(x_n |s_n , \\lambda)+ logp(S, \\lambda, A, \\pi)\\rangle_{q(s_n)} \\\\\n",
    "    = \\sum_{n=1}^N \\langle log p(x_n |s_n , \\lambda)\\rangle_{q(s_n)} + \\langle log (S | A, \\pi)\\rangle_{q(S)} + \n",
    "    log p(\\lambda) + log p(\\pi) + log p(A) + const\\\\\n",
    "\\end{align}\n",
    "$$  "
   ]
  },
  {
   "cell_type": "markdown",
   "metadata": {},
   "source": [
    "- $x_n$は潜在変数(どのクラスタに属するか)と$\\lambda$(該当クラスタがどのような分布か)で決まる\n",
    "- 状態系列Sは初期確率と遷移確率行列によって決まる\n",
    "- その他のパラメータは状態系列Sの影響を受けないので期待値の山括弧を外せる\n",
    "- $\\lambda$ は$\\pi$, $A$とは独立に計算できる"
   ]
  },
  {
   "cell_type": "markdown",
   "metadata": {},
   "source": [
    "$$\n",
    "\\begin{align}\n",
    "log q(s_1) = \\langle log p(S, \\lambda, A, \\pi, x_1) \\rangle_{q(\\lambda, \\pi, A)} \\\\\n",
    "=\\langle log p(x_1| s_1, \\lambda) \\rangle_{q(\\lambda)} + \\langle log p(s_1 | \\pi) \\rangle_{q(\\pi)} + \\langle log p(s_2| s_1, A) \\rangle_{q(A)q(s_2)} +const\n",
    "\\\\\n",
    "\\\\\n",
    "log q(s_n) = \n",
    "\\langle log p(x_n| s_n, \\lambda) \\rangle_{q(\\lambda)} + \\langle log p(s_{n+1} | s_n, A) \\rangle_{q(A)q(s_{n+1})} + \\langle log p(s_n| s_{n-1}, A) \\rangle_{q(A)q(s_{n-1}))} +const\n",
    "\\\\\n",
    "\\\\\n",
    "log q(s_N) = \n",
    "\\langle log p(x_N| s_N, \\lambda) \\rangle_{q(\\lambda)} +  \\langle log p(s_N| s_{N-1}, A) \\rangle_{q(A)q(s_{N-1}))} +const\\\\\n",
    "\\end{align}\n",
    "$$"
   ]
  },
  {
   "cell_type": "markdown",
   "metadata": {},
   "source": [
    "$\\lambda$の近似事後分布はガンマ分布で表せる"
   ]
  },
  {
   "cell_type": "markdown",
   "metadata": {},
   "source": [
    "$$\n",
    "\\begin{align}\n",
    "p(S|\\pi, A) = p(s_1|\\pi) \\prod_{n=2}^N p(s_n|s_{n-1}, A) \\\\...(5.70)\\\\\n",
    "\\end{align}\n",
    "$$"
   ]
  },
  {
   "cell_type": "markdown",
   "metadata": {},
   "source": [
    "$$\n",
    "\\begin{align}\n",
    "log q(\\pi, A)  = \\langle log (S | A, \\pi)\\rangle_{q(S)} + log p(\\pi) + log p(A) + const\\\\\n",
    "= \\langle log p(s_1|\\pi) \\rangle_{q(s_1)} + \\sum_{n=2}^N \\langle log p(s_n|s_{n-1}, A)\\rangle_{q(s_n , s_n-1)} + log p(\\pi) +log p(A) + const\n",
    "\\end{align}\n",
    "$$"
   ]
  },
  {
   "cell_type": "markdown",
   "metadata": {},
   "source": [
    "- $\\pi$とAを分けて計算することができる\n",
    "-$\\pi$はカテゴリ分布($p(s_1|\\pi)$)とディリクレ分布($p(\\pi)$)の定義式より\n",
    "    - $log q(\\pi) = \\sum_{i=1}^K \\langle s_{1,i} \\rangle log \\pi_i + \\sum_{i=1}^K \\alpha_i log \\pi_i + const$"
   ]
  },
  {
   "cell_type": "markdown",
   "metadata": {},
   "source": [
    "$$\n",
    "\\begin{align}\n",
    "p(s_n | s_{n-1} , A) = \\prod_{i=1}^K Cat(s_n | A_{i,j})^{s_{n-1. i}}) \\\\\n",
    "    =\\prod_{i=1}^K \\prod_{j=1}^K A_{j,i^{s_{n,j},s_{n-1, i}}} ...(5.74) \\\\\n",
    "p(A_{:,i}) = Dir(A_{:,j}|\\beta_{:, i})...(5.75)\n",
    "\\end{align}\n",
    "$$"
   ]
  },
  {
   "cell_type": "markdown",
   "metadata": {},
   "source": [
    "5.74, 5.75を5.87式のAに関する項に代入すると、Aの近似事後分布がK個の独立なディリクレ分布として表せる"
   ]
  },
  {
   "cell_type": "markdown",
   "metadata": {},
   "source": [
    "$Poi(x_n|\\lambda) =\\frac{ \\lambda^x} {x!}  e^{-\\lambda}$\n",
    "\n",
    "$p(s_1|\\pi) = Cat(s_1|\\pi)$"
   ]
  },
  {
   "cell_type": "markdown",
   "metadata": {},
   "source": [
    "### 構造化変分推論\n",
    "時間方向の分解は仮定しない  \n",
    "完全分解変分推論より近似性能は良い  \n",
    "$p(S, \\lambda, \\pi, A| X) \\approx q(S)q(\\lambda, \\pi, A)$"
   ]
  },
  {
   "cell_type": "markdown",
   "metadata": {},
   "source": [
    "$$\n",
    "\\begin{align}\n",
    "log q(S) = log \\langle p(S, \\lambda, \\pi, A, X) \\rangle_{q(\\pi)q(\\lambda)q(A)} \\\\\n",
    "=\\sum_{n=1}^N \\langle log p(x_n | s_n, \\lambda) \\rangle_{q(\\lambda)} + \\langle log p(S | \\pi ,A)\\rangle_{q(\\pi)q(A)} + const ...(5.110)\n",
    "\\end{align}\n",
    "$$"
   ]
  },
  {
   "cell_type": "markdown",
   "metadata": {},
   "source": [
    "#### message passing\n",
    ">コンピュータ上でプログラムの実行を呼び出すための技術  \n",
    "関数の呼び出しと特定の実装の呼びだしを区別するためにプログラムをオブジェクトで呼びだす  \n",
    "↔︎名前の呼び出し  \n",
    "オブジェクトによってどの関数を呼び出すのかが決定される  \n",
    "任意の呼び出し動作→オブジェクト→欲しいプログラム  \n",
    "- 間にオブジェクトを挟むことでカプセル化ができることが利点"
   ]
  },
  {
   "cell_type": "markdown",
   "metadata": {},
   "source": [
    "$$\n",
    "\\begin{align}\n",
    "q(S) =exp\\left\\{ \\sum_{n=1}^N \\langle log p(x_n | s_n, \\lambda) \\rangle_{q(\\lambda)} + \\langle log p(S | \\pi ,A)\\rangle_{q(\\pi)q(A)} + const \\right\\} \\\\\n",
    "\\propto exp\\left\\{ \\langle log p(X_{1:n-1}, S_{1:n-1} | \\lambda, \\pi, A) \\rangle_{q(\\lambda)q(\\pi)q(A)} + \\langle log p(s_n | s_{n-1}, A)\\rangle_{q(A)} +\\langle log p(x_n | s_n, \\lambda)\\rangle_{q(\\lambda)}  + \\langle log p(X_{n+1:N}, S_{n+1:N} | \\lambda, s_n, A) \\rangle_{q(\\lambda)q(A)} \\right\\} \\\\\n",
    "\\end{align}\n",
    "$$"
   ]
  },
  {
   "cell_type": "markdown",
   "metadata": {},
   "source": [
    "$f(s_n)$と$b(s_n)$が計算済みであれば大幅に各$s_n$の計算コストを抑えられる  \n",
    "$K^N-1$→$K$"
   ]
  },
  {
   "cell_type": "markdown",
   "metadata": {},
   "source": [
    "$f(s_n)$は再帰的に計算できる\n",
    ">$f(s_n) = \\tilde{p}(x_n|s_n)\\tilde{p}(s_n|s_{n-1})f(s_{n-1})$  \n",
    "\n",
    "→計算回数がN-1回で済む  \n",
    "$b(s_n)$も同様にN-1回の計算で求められる"
   ]
  },
  {
   "cell_type": "markdown",
   "metadata": {},
   "source": [
    "### 比較\n",
    "- 構造家変分推論の方が一般に精度は高い\n",
    "    - 状態間の相対状態を保持しているため\n",
    "- 完全分解変分推論は近似分布q(S)を点ごとに求められる\n",
    "    - $s_n$の並列化がしやすい\n",
    "- 完全分解推論は追加学習がしやすい\n",
    "    - 構造化変分推論はf(s),b(s)の計算が改めて必要になる  \n",
    "    ->折衷案としてミニバッチに分割して推論する方法も考えられる"
   ]
  },
  {
   "cell_type": "code",
   "execution_count": 49,
   "metadata": {},
   "outputs": [],
   "source": [
    "#S\n",
    "states = ('sweet', 'salty')\n",
    "end_state = 'E'\n",
    "#X\n",
    "observations = ('hungry',  'full', 'sleepy')\n",
    "#初期確率\n",
    "start_prob = {'sweet': 0.5, 'salty': 0.5}\n",
    "#転移確率 \n",
    "trans_prob = {\n",
    "   'sweet' : {'sweet': 0.6, 'salty': 0.3, 'E': 0.1},\n",
    "   'salty' : {'sweet': 0.4, 'salty': 0.59, 'E': 0.01},\n",
    "   }\n",
    "#出力確率\n",
    "emission_prob = {\n",
    "   'sweet' : {'full': 0.5, 'sleepy': 0.4, 'hungry': 0.1},\n",
    "   'salty' : {'full': 0.1, 'sleepy': 0.3, 'hungry': 0.6},\n",
    "   }"
   ]
  },
  {
   "cell_type": "code",
   "execution_count": 54,
   "metadata": {},
   "outputs": [],
   "source": [
    "def fwd_bkw(observations, states, start_prob, trans_prob, emm_prob, end_st):\n",
    "    # Forward部分\n",
    "    fwd = []\n",
    "    f_prev = {}\n",
    "    for i, observation_i in enumerate(observations): #Xについて\n",
    "        f_current = {}\n",
    "        for s in states:#各状態について\n",
    "            if i == 0:#最初だけπから生成\n",
    "                prev_f_sum = start_prob[s]\n",
    "            else:\n",
    "                prev_f_sum = sum(f_prev[k]*trans_prob[k][s] for k in states)\n",
    "            f_current[s] = emm_prob[s][observation_i] * prev_f_sum #5.119\n",
    "        #各状態における確率値を保存\n",
    "        fwd.append(f_current)\n",
    "        f_prev = f_current\n",
    "    #正規化のために使う n=3で終わる確率\n",
    "    p_fwd = sum(f_current[k] * trans_prob[k][end_st] for k in states)\n",
    "    \n",
    "    # Backward部分\n",
    "    bkw = []\n",
    "    b_prev = {}\n",
    "    for i, observation_i_plus in enumerate(reversed(observations[1:]+(None,))):\n",
    "        b_current = {}\n",
    "        for s in states:\n",
    "            if i == 0:#最後\n",
    "                b_current[s] = trans_prob[s][end_st]\n",
    "            else:\n",
    "                b_current[s] = sum(trans_prob[s][l] * emm_prob[l][observation_i_plus] * b_prev[l] for l in states)\n",
    "\n",
    "        bkw.insert(0,b_current)\n",
    "        b_prev = b_current\n",
    "\n",
    "    #fwdとbkwを合わせる\n",
    "    posterior = []\n",
    "    for i in range(len(observations)):\n",
    "        posterior.append({s: fwd[i][s] * bkw[i][s] / p_fwd for s in states})\n",
    "\n",
    "    return fwd, bkw, posterior"
   ]
  },
  {
   "cell_type": "code",
   "execution_count": 55,
   "metadata": {},
   "outputs": [
    {
     "name": "stdout",
     "output_type": "stream",
     "text": [
      "[{'sweet': 0.18117349516725803, 'salty': 0.8188265048327422}, {'sweet': 0.8455261141928859, 'salty': 0.15447388580711416}, {'sweet': 0.9540522772836677, 'salty': 0.04594772271633244}]\n"
     ]
    }
   ],
   "source": [
    "fwd, bkw, posterior = fwd_bkw(observations, states, start_prob, trans_prob, emission_prob, end_state)\n",
    "\n",
    "print(posterior)"
   ]
  },
  {
   "cell_type": "code",
   "execution_count": null,
   "metadata": {},
   "outputs": [],
   "source": [
    "#8個しかないから全部計算して確認できる"
   ]
  }
 ],
 "metadata": {
  "kernelspec": {
   "display_name": "Python 3",
   "language": "python",
   "name": "python3"
  },
  "language_info": {
   "codemirror_mode": {
    "name": "ipython",
    "version": 3
   },
   "file_extension": ".py",
   "mimetype": "text/x-python",
   "name": "python",
   "nbconvert_exporter": "python",
   "pygments_lexer": "ipython3",
   "version": "3.7.4"
  }
 },
 "nbformat": 4,
 "nbformat_minor": 2
}
