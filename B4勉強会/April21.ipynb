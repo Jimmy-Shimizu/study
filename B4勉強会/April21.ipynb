{
 "cells": [
  {
   "cell_type": "markdown",
   "metadata": {},
   "source": [
    "### 非負値行列因子分解\n",
    "データを低次元部分空間に写像する手法\n",
    "\n",
    "$\n",
    "X \\in N^{D*N}を W \\in R^{+D*M} , H \\in R^{+M*N}\n",
    "$に近似分解  \n",
    "分解によって得られる２つの行列を因子行列と呼ぶ  \n",
    "\n",
    "例えば：  \n",
    "Xを複数の消費者による複数の商品の購入量とした時  \n",
    "D = 商品数  \n",
    "N = 消費者数  \n",
    "でありWの各列ベクトルw(d) (d=1,...,D)は商品購買パ ターンを表すパラメータであり，F の各行ベクトル f(n) (n = 1, . . . , N) は各消費者の各商品購買パターン への従属度合を表すパラメータとして解釈できる\n"
   ]
  },
  {
   "cell_type": "markdown",
   "metadata": {},
   "source": [
    "##### 補助変数\n",
    "補助変数S  \n",
    "$\n",
    "S_{d,m,n} \\approx W_{d,m}H_{m,n}\n",
    "$"
   ]
  },
  {
   "cell_type": "markdown",
   "metadata": {},
   "source": [
    "#### デルタ分布\n",
    "空間の一点にだけ存在する粒子を数式中に表現したいためにディラックによって発明された関数  \n",
    "ある一点において密度は無限大、しかしその密度を積分して全体量を求めると有限量であるという性質  \n",
    "式で表すと以下のようになる  \n",
    "- 密度無限大  \n",
    "$\n",
    "\\sigma (x) = \\infty (x = 0), else 0  $\n",
    "\n",
    "- 積分すると有限値  \n",
    "$\n",
    "\\int_{-\\infty}^{\\infty}f(x)\\sigma (x-a)dx = f(a)\n",
    "$  \n",
    "\n",
    "ここでf(a)=1とすると確率分布として成立する"
   ]
  },
  {
   "cell_type": "markdown",
   "metadata": {},
   "source": [
    "##### スペクトログラム\n",
    "周波数分析を時間的に連続して行い、色によって強さを表すことで、強さ、周波数、時間を３次元表示  \n",
    "- 横軸が時間  \n",
    "- 縦軸が周波数（上に行くほど音が高い）  \n",
    "- 色が黄色いほど音が強い（音が大きい）"
   ]
  },
  {
   "cell_type": "markdown",
   "metadata": {},
   "source": [
    "## 隠れマルコフモデル\n",
    "時系列データに対するモデリング"
   ]
  },
  {
   "cell_type": "markdown",
   "metadata": {},
   "source": [
    "パラメータ\n",
    "- 状態系列($s_1, ..., s_n$)\n",
    "- 初期確率\n",
    "    - $s_1$についての混合比率\n",
    "- 遷移確率行列  \n",
    "     - 状態間の遷移を表す\n",
    "#### 遷移確率行列\n",
    "$K \\times K$の行列  \n",
    "$A_{ij}$は状態iから状態jに遷移する確率値をあらあわわす"
   ]
  },
  {
   "cell_type": "code",
   "execution_count": null,
   "metadata": {},
   "outputs": [],
   "source": []
  }
 ],
 "metadata": {
  "kernelspec": {
   "display_name": "Python 3",
   "language": "python",
   "name": "python3"
  },
  "language_info": {
   "codemirror_mode": {
    "name": "ipython",
    "version": 3
   },
   "file_extension": ".py",
   "mimetype": "text/x-python",
   "name": "python",
   "nbconvert_exporter": "python",
   "pygments_lexer": "ipython3",
   "version": "3.7.4"
  }
 },
 "nbformat": 4,
 "nbformat_minor": 2
}
