{
 "cells": [
  {
   "cell_type": "markdown",
   "metadata": {},
   "source": [
    "\n",
    "## ポワソン混合モデルにおける推論"
   ]
  },
  {
   "cell_type": "code",
   "execution_count": 17,
   "metadata": {},
   "outputs": [
    {
     "name": "stdout",
     "output_type": "stream",
     "text": [
      "Populating the interactive namespace from numpy and matplotlib\n"
     ]
    },
    {
     "name": "stderr",
     "output_type": "stream",
     "text": [
      "/home/jimmy/.pyenv/versions/anaconda3-2019.10/lib/python3.7/site-packages/IPython/core/magics/pylab.py:160: UserWarning: pylab import has clobbered these variables: ['norm', 'beta']\n",
      "`%matplotlib` prevents importing * from pylab and numpy\n",
      "  \"\\n`%matplotlib` prevents importing * from pylab and numpy\"\n"
     ]
    },
    {
     "data": {
      "text/plain": [
       "(array([16., 35., 54., 61., 28.,  5.,  0.,  2.,  9., 35., 28., 53., 29.,\n",
       "        17., 16.,  6.,  2.,  2.,  1.,  1.]),\n",
       " array([15.  , 18.85, 22.7 , 26.55, 30.4 , 34.25, 38.1 , 41.95, 45.8 ,\n",
       "        49.65, 53.5 , 57.35, 61.2 , 65.05, 68.9 , 72.75, 76.6 , 80.45,\n",
       "        84.3 , 88.15, 92.  ]),\n",
       " <a list of 20 Patch objects>)"
      ]
     },
     "execution_count": 17,
     "metadata": {},
     "output_type": "execute_result"
    },
    {
     "data": {
      "image/png": "[encoded data removed]",
      "text/plain": [
       "<Figure size 432x288 with 1 Axes>"
      ]
     },
     "metadata": {
      "needs_background": "light"
     },
     "output_type": "display_data"
    }
   ],
   "source": [
    "%pylab inline\n",
    "from scipy.stats import poisson\n",
    "data1 = poisson.rvs(25, size=200)\n",
    "data2 = poisson.rvs(60, size=200)\n",
    "x = np.concatenate([data1, data2])\n",
    "plt.hist(x, bins=20)"
   ]
  },
  {
   "cell_type": "markdown",
   "metadata": {},
   "source": [
    "## ガウス混合モデルにおける推論  \n",
    "### データ生成\n",
    "1次元ガウス混合モデルを作成\n",
    "- data1\n",
    "    - 平均30\n",
    "    - 標準偏差5\n",
    "    - データ数100\n",
    "- data2\n",
    "    - 平均60\n",
    "    - 標準偏差値10\n",
    "    - データ数300"
   ]
  },
  {
   "cell_type": "code",
   "execution_count": 3,
   "metadata": {
    "scrolled": true
   },
   "outputs": [
    {
     "name": "stdout",
     "output_type": "stream",
     "text": [
      "Populating the interactive namespace from numpy and matplotlib\n"
     ]
    },
    {
     "name": "stderr",
     "output_type": "stream",
     "text": [
      "/home/jimmy/.pyenv/versions/anaconda3-2019.10/lib/python3.7/site-packages/IPython/core/magics/pylab.py:160: UserWarning: pylab import has clobbered these variables: ['beta']\n",
      "`%matplotlib` prevents importing * from pylab and numpy\n",
      "  \"\\n`%matplotlib` prevents importing * from pylab and numpy\"\n"
     ]
    },
    {
     "data": {
      "text/plain": [
       "(array([ 3.,  7., 26., 34., 26., 14.,  9., 13., 19., 26., 28., 27., 34.,\n",
       "        17., 11.,  3.,  4., 39., 55.,  5.]),\n",
       " array([15.87941042, 19.97383716, 24.0682639 , 28.16269064, 32.25711738,\n",
       "        36.35154413, 40.44597087, 44.54039761, 48.63482435, 52.72925109,\n",
       "        56.82367784, 60.91810458, 65.01253132, 69.10695806, 73.2013848 ,\n",
       "        77.29581155, 81.39023829, 85.48466503, 89.57909177, 93.67351851,\n",
       "        97.76794526]),\n",
       " <a list of 20 Patch objects>)"
      ]
     },
     "execution_count": 3,
     "metadata": {},
     "output_type": "execute_result"
    },
    {
     "data": {
      "image/png": "[encoded data removed]",
      "text/plain": [
       "<Figure size 432x288 with 1 Axes>"
      ]
     },
     "metadata": {
      "needs_background": "light"
     },
     "output_type": "display_data"
    }
   ],
   "source": [
    "%pylab inline\n",
    "import seaborn as sns\n",
    "from scipy.stats import norm\n",
    "loc_vec = [30,60,90]\n",
    "scale_vec = [5,10, 3]\n",
    "mix_rate = [0.25, 0.5, 0.25]\n",
    "data1 = norm.rvs(loc=30, scale=5, size=100)\n",
    "data2 = norm.rvs(loc=60,scale=10, size=200)\n",
    "data3 = norm.rvs(loc=90,scale=3, size=100)\n",
    "x = np.concatenate([data1, data2, data3]) #同じ軸でdataを結合\n",
    "plt.hist(x, bins=20) #binsの数はデータ数nの平方根程度が良い(らしい)"
   ]
  },
  {
   "cell_type": "markdown",
   "metadata": {},
   "source": [
    "### ギブスサンプリング\n",
    "欲しいもの\n",
    "$$\n",
    "p( S , \\mu , \\Lambda , \\pi | X)\n",
    "$$\n",
    "### S(クラスタの割り当て)のサンプリング  \n",
    "$$\n",
    "s_n \\sim  Cat(s_n|\\eta)\n",
    "$$\n",
    "### その他のパラメータのサンプリング \n",
    "\n",
    "μ ,Λ,πのサンプリングがしたい\n",
    "\n",
    "#### μのサンプリング\n",
    "$$\n",
    "\\mu_n \\sim  N (\\mu_k|\\hat{m}_k, (\\hat{\\beta}_k \\Lambda_k)^{-1})\n",
    "$$\n",
    "#### Λのサンプリング\n",
    "$$\n",
    "\\Lambda_k \\sim W(\\Lambda_k|\\hat{\\mu}_k, \\hat{W}_k)\n",
    "$$\n",
    "#### πのサンプリング\n",
    "$$\n",
    "\\pi \\sim Dir(\\pi|\\hat{\\alpha})\n",
    "$$"
   ]
  },
  {
   "cell_type": "markdown",
   "metadata": {},
   "source": [
    "### １次元ガウス混合モデルのギブスサンプリング実装"
   ]
  },
  {
   "cell_type": "code",
   "execution_count": 12,
   "metadata": {},
   "outputs": [],
   "source": [
    "#初期化\n",
    "import numpy as np\n",
    "import math\n",
    "maxiter = 2\n",
    "num_data = 400\n",
    "num_cluster = 3\n",
    "#！！！初期値要検討良い参考資料が見つかり次第修正！！！\n",
    "p_loc_vec = np.zeros(num_cluster)\n",
    "p_scale_vec = np.ones(num_cluster)\n",
    "pi_vector = np.ones(num_cluster)/num_cluster\n",
    "s_vector = np.zeros((num_data,num_cluster))\n",
    "#ハイパーパラメータの初期化\n",
    "eta = np.zeros((num_data, num_cluster))\n",
    "alpha = 1.0\n",
    "alpha_vec = np.ones(num_cluster)\n",
    "beta = 1.0\n",
    "v = 2\n",
    "old_m_vec = np.ones(1)\n",
    "m_vector = np.zeros((num_cluster,1))\n",
    "w_matrix = np.identity(1)\n",
    "beta_vec = np.zeros(num_cluster)"
   ]
  },
  {
   "cell_type": "code",
   "execution_count": null,
   "metadata": {},
   "outputs": [],
   "source": []
  },
  {
   "cell_type": "code",
   "execution_count": 13,
   "metadata": {},
   "outputs": [],
   "source": [
    "for i in range(maxiter):\n",
    "    #sのサンプリング\n",
    "    for n in range (num_data):\n",
    "        for k in range(num_cluster):\n",
    "            eta[n][k] = math.exp(-0.5*(x[n] - p_loc_vec[k])*p_scale_vec[k]*(x[n] - p_loc_vec[k])+ 0.5*math.log(p_scale_vec[k]) + math.log(pi_vector[k]))\n",
    "    for n in range(num_data):\n",
    "        nor_eta = 0\n",
    "        for  k in range(num_cluster):\n",
    "            nor_eta += eta[n][k]\n",
    "        if nor_eta == 0:\n",
    "            s_vector[n] = np.random.multinomial(1,eta[n])\n",
    "        else:\n",
    "            s_vector[n] = np.random.multinomial(1,eta[n]/nor_eta)\n",
    "    #piのサンプリング\n",
    "    for k in range(num_cluster):\n",
    "        sum1 = 0\n",
    "        for n in range(num_data):\n",
    "            sum1 += s_vector[n][k]\n",
    "        alpha_vec[k] = sum1 + alpha\n",
    "    pi_vector = np.random.dirichlet(alpha_vec)\n",
    "    #Λとμのサンプリング\n",
    "    for k in range(num_cluster):\n",
    "        sum1 = 0\n",
    "        sum2 = 0\n",
    "        for n in range(num_data):\n",
    "            sum1 += s_vector[n][k]*x[n]\n",
    "            sum2 += s_vector[n][k]\n",
    "        beta_vec[k] = sum2 + beta\n",
    "        m_vector[k] = (sum1 + beta*old_m_vec)/beta_vec[k]\n",
    "    for k in range(num_cluster):\n",
    "        sum1 = 0\n",
    "        sum2 = 0\n",
    "        for n in range(num_data):\n",
    "            sum1 += s_vector[n][k]*x[n]*x[n]\n",
    "            sum2 += s_vector[n][k]\n",
    "        w_new = sum1 + beta*(old_m_vec*old_m_vec) - beta_vec[k]*(m_vector[k]*m_vector[k]) + np.linalg.inv(w_matrix)\n",
    "        new_v = sum2 + v\n",
    "        p_scale_vec[k] = new_v * np.linalg.inv(w_new)\n",
    "        p_loc_vec[k] = np.random.normal(m_vector[k], (beta_vec[k]*p_scale_vec[k])/np.sum(beta_vec[k]*p_scale_vec[k]))"
   ]
  },
  {
   "cell_type": "code",
   "execution_count": 14,
   "metadata": {},
   "outputs": [
    {
     "name": "stdout",
     "output_type": "stream",
     "text": [
      "Populating the interactive namespace from numpy and matplotlib\n",
      "[28.116082063980087, 28.31123930401208, 37.479367865582226]\n",
      "[0.19464333643968654, 0.20681785343352307, 0.004631501375173692]\n",
      "[0.3903373192840632, 0.44263509804608697, 0.16702758266984977]\n"
     ]
    },
    {
     "name": "stderr",
     "output_type": "stream",
     "text": [
      "/home/jimmy/.pyenv/versions/anaconda3-2019.10/lib/python3.7/site-packages/IPython/core/magics/pylab.py:160: UserWarning: pylab import has clobbered these variables: ['beta', 'norm']\n",
      "`%matplotlib` prevents importing * from pylab and numpy\n",
      "  \"\\n`%matplotlib` prevents importing * from pylab and numpy\"\n"
     ]
    }
   ],
   "source": [
    "%pylab inline\n",
    "import seaborn as sns\n",
    "from scipy.stats import norm\n",
    "p_loc_vec = p_loc_vec.tolist()\n",
    "p_scale_vec = p_scale_vec.tolist()\n",
    "pi_vector = pi_vector.tolist()\n",
    "print(p_loc_vec)\n",
    "print(p_scale_vec)\n",
    "print(pi_vector)"
   ]
  },
  {
   "cell_type": "code",
   "execution_count": 15,
   "metadata": {
    "scrolled": true
   },
   "outputs": [
    {
     "data": {
      "text/plain": [
       "(array([262., 519.,  51.,   0.,   0.,   0.,   0.,   0.,   0.,   0.,   0.,\n",
       "          0.,   0.,   0.,   0.,   0.,   0.,   0.,   0., 167.]),\n",
       " array([27.60086357, 28.09543571, 28.59000786, 29.08458   , 29.57915214,\n",
       "        30.07372429, 30.56829643, 31.06286858, 31.55744072, 32.05201286,\n",
       "        32.54658501, 33.04115715, 33.5357293 , 34.03030144, 34.52487358,\n",
       "        35.01944573, 35.51401787, 36.00859001, 36.50316216, 36.9977343 ,\n",
       "        37.49230645]),\n",
       " <a list of 20 Patch objects>)"
      ]
     },
     "execution_count": 15,
     "metadata": {},
     "output_type": "execute_result"
    },
    {
     "data": {
      "image/png": "[encoded data removed]",
      "text/plain": [
       "<Figure size 432x288 with 1 Axes>"
      ]
     },
     "metadata": {
      "needs_background": "light"
     },
     "output_type": "display_data"
    }
   ],
   "source": [
    "data1 = norm.rvs(loc=p_loc_vec[0], scale=p_scale_vec[0], size=int(pi_vector[0]*1000))\n",
    "data2 = norm.rvs(loc=p_loc_vec[1], scale=p_scale_vec[1], size=int(pi_vector[1]*1000))\n",
    "data3 = norm.rvs(loc=p_loc_vec[2], scale=p_scale_vec[2], size=int(pi_vector[2]*1000))\n",
    "x = np.concatenate([data1, data2, data3]) #同じ軸でdataを結合\n",
    "plt.hist(x, bins=20) #binsの数はデータ数nの平方根程度が良い(らしい)"
   ]
  },
  {
   "cell_type": "code",
   "execution_count": 46,
   "metadata": {},
   "outputs": [
    {
     "data": {
      "text/plain": [
       "(array([100.,  85., 115.,   0.,   0.,   0.,   0.,   0.,   0.,   0.,   0.,\n",
       "          0.,   0.,   0.,   0.,   0.,   0.,   0.,   0., 100.]),\n",
       " array([26.20993172, 27.59183628, 28.97374085, 30.35564541, 31.73754997,\n",
       "        33.11945453, 34.5013591 , 35.88326366, 37.26516822, 38.64707278,\n",
       "        40.02897735, 41.41088191, 42.79278647, 44.17469103, 45.5565956 ,\n",
       "        46.93850016, 48.32040472, 49.70230928, 51.08421385, 52.46611841,\n",
       "        53.84802297]),\n",
       " <a list of 20 Patch objects>)"
      ]
     },
     "execution_count": 46,
     "metadata": {},
     "output_type": "execute_result"
    },
    {
     "data": {
      "image/png": "[encoded data removed]",
      "text/plain": [
       "<Figure size 432x288 with 1 Axes>"
      ]
     },
     "metadata": {
      "needs_background": "light"
     },
     "output_type": "display_data"
    }
   ],
   "source": [
    "data1 = norm.rvs(loc=p_loc_vec[0], scale=p_scale_vec[0], size=100)\n",
    "data2 = norm.rvs(loc=p_loc_vec[1], scale=p_scale_vec[1], size=200)\n",
    "data3 = norm.rvs(loc=p_loc_vec[2], scale=p_scale_vec[2], size=100)\n",
    "x = np.concatenate([data1, data2, data3]) #同じ軸でdataを結合\n",
    "plt.hist(x, bins=20) #binsの数はデータ数nの平方根程度が良い(らしい)"
   ]
  },
  {
   "cell_type": "markdown",
   "metadata": {},
   "source": [
    "逆行列の周辺怪しい\n",
    "sumを求めるのには内包表記で\n",
    "更新する値としない値を\n",
    "変数名を本に合わせておく\n",
    "デバックで同時にコードを綺麗にしていくとバグ"
   ]
  }
 ],
 "metadata": {
  "kernelspec": {
   "display_name": "Python 3",
   "language": "python",
   "name": "python3"
  },
  "language_info": {
   "codemirror_mode": {
    "name": "ipython",
    "version": 3
   },
   "file_extension": ".py",
   "mimetype": "text/x-python",
   "name": "python",
   "nbconvert_exporter": "python",
   "pygments_lexer": "ipython3",
   "version": "3.7.4"
  }
 },
 "nbformat": 4,
 "nbformat_minor": 2
}
