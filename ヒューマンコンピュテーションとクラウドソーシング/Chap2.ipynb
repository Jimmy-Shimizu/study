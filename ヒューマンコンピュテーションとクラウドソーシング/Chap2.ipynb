{
 "cells": [
  {
   "cell_type": "markdown",
   "metadata": {},
   "source": [
    "GWAP game with a purpose  "
   ]
  },
  {
   "cell_type": "markdown",
   "metadata": {},
   "source": [
    "出力一致方式\n",
    "- 音楽タグ\n",
    "- 画像タグ\n",
    "- 語義曖昧性解消\n",
    "- 検索結果ランキング"
   ]
  },
  {
   "cell_type": "markdown",
   "metadata": {},
   "source": [
    "入力一致方式\n",
    "- Tag-a-tune\n",
    "    - 曲の一部が与えられてそれにプレイヤー1,2がタグ付け、互いのタグを見比べて同じ楽曲を聴いているか当てるゲーム\n",
    "    - システムは入力の答え(聴いている曲が同じか否か)を知っている\n",
    "    - 楽曲を入力としてそれが一致するかの関数をプレイヤーに計算させている\n",
    "        - 関数評価方式"
   ]
  },
  {
   "cell_type": "code",
   "execution_count": null,
   "metadata": {},
   "outputs": [],
   "source": []
  }
 ],
 "metadata": {
  "kernelspec": {
   "display_name": "Python 3",
   "language": "python",
   "name": "python3"
  },
  "language_info": {
   "codemirror_mode": {
    "name": "ipython",
    "version": 3
   },
   "file_extension": ".py",
   "mimetype": "text/x-python",
   "name": "python",
   "nbconvert_exporter": "python",
   "pygments_lexer": "ipython3",
   "version": "3.7.4"
  }
 },
 "nbformat": 4,
 "nbformat_minor": 2
}
