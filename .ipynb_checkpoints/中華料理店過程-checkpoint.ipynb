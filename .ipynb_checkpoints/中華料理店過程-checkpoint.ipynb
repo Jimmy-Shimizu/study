{
 "cells": [
  {
   "cell_type": "markdown",
   "metadata": {},
   "source": [
    "離散確率過程の一種  \n",
    "各時刻nにおける分割の確率を定める  \n",
    "\n",
    "中華料理店での客の振る舞いをもとにしたモデル  \n",
    "1. 時刻1で客はテーブル1($b_1$)につく  \n",
    "    - 毎秒一人の客が店に入る  \n",
    "\n",
    "2. 時刻nで各テーブルiに新しい客が座る確率は$\\frac{|b_i|}{n+1}$\n",
    "    - $b_i$は各テーブルに既にいる人数  \n",
    "    - 確率$\\frac{1}{n+1}$で新しいテーブルに客が座る"
   ]
  },
  {
   "cell_type": "code",
   "execution_count": 1,
   "metadata": {},
   "outputs": [],
   "source": [
    "#なんか楽しそうだから実装したいねこれ"
   ]
  }
 ],
 "metadata": {
  "kernelspec": {
   "display_name": "Python 3",
   "language": "python",
   "name": "python3"
  },
  "language_info": {
   "codemirror_mode": {
    "name": "ipython",
    "version": 3
   },
   "file_extension": ".py",
   "mimetype": "text/x-python",
   "name": "python",
   "nbconvert_exporter": "python",
   "pygments_lexer": "ipython3",
   "version": "3.6.5"
  }
 },
 "nbformat": 4,
 "nbformat_minor": 2
}
