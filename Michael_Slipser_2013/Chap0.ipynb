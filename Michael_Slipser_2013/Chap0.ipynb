{
 "cells": [
  {
   "cell_type": "markdown",
   "metadata": {},
   "source": [
    "### Complexity Theory\n",
    "- コンピュータにとって難しい問題と容易な問題の違いとは\n",
    "- コンピュータにとって難しい問題に対峙した時\n",
    "    - 難しい問題と思われる問題を分析して代替案を出す\n",
    "    - 問題解決に要求する精度を下げる\n",
    "    - 最悪のケースでしか難しくない(おそらく計算コストが話)ので基本的には問題なく作動するかもしれない\n",
    "    - 他の計算・処理方法を検討してみる"
   ]
  },
  {
   "cell_type": "markdown",
   "metadata": {},
   "source": [
    "0.1\n",
    "a. odd natural num\n",
    "b. even num\n",
    "c. even natural num\n",
    "d. multiple of 6\n",
    "e. 00001110000　こういうやつ\n",
    "f.{}\n",
    "\n",
    "0.2 \n",
    "a.{n| n = 10m for some m in N}\n",
    "b.{n|n >5 for some n in N}\n",
    "c.{n|n < 5  for some n in N and R}\n",
    "d.{w|w is a string of as and bs}\n",
    "e.{}\n",
    "f.φ\n",
    "\n",
    "0.3\n",
    "a. no\n",
    "b. yes\n",
    "c. {x,y,z}\n",
    "d. {x,y}\n",
    "e 要素6個\n",
    "f. {φ},{x},{y},{x,y}\n",
    "  \n",
    "- set とtupleの違いに留意する\n",
    "    - setに順序は関係ないtupleは関係ある\n",
    "\n",
    "0.4\n",
    "a*b\n",
    "\n",
    "0.5\n",
    "The power set can be caculated as\n",
    "sum(k=1 to k=c){k Combinational c}\n",
    "which is (1+1)^c -> 2^c"
   ]
  },
  {
   "cell_type": "code",
   "execution_count": null,
   "metadata": {},
   "outputs": [],
   "source": []
  },
  {
   "cell_type": "code",
   "execution_count": null,
   "metadata": {},
   "outputs": [],
   "source": []
  }
 ],
 "metadata": {
  "kernelspec": {
   "display_name": "Python 3",
   "language": "python",
   "name": "python3"
  },
  "language_info": {
   "codemirror_mode": {
    "name": "ipython",
    "version": 3
   },
   "file_extension": ".py",
   "mimetype": "text/x-python",
   "name": "python",
   "nbconvert_exporter": "python",
   "pygments_lexer": "ipython3",
   "version": "3.7.4"
  }
 },
 "nbformat": 4,
 "nbformat_minor": 2
}
