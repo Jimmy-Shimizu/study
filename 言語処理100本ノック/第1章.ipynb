{
 "cells": [
  {
   "cell_type": "code",
   "execution_count": 1,
   "metadata": {},
   "outputs": [
    {
     "name": "stdout",
     "output_type": "stream",
     "text": [
      "desserts\n"
     ]
    }
   ],
   "source": [
    "a = \"stressed\"\n",
    "a =a[::-1]\n",
    "print(a)"
   ]
  },
  {
   "cell_type": "code",
   "execution_count": 2,
   "metadata": {},
   "outputs": [
    {
     "name": "stdout",
     "output_type": "stream",
     "text": [
      "パトカー\n"
     ]
    }
   ],
   "source": [
    "a = \"パタトクカシーー\"\n",
    "a = a[::2]\n",
    "print(a)"
   ]
  },
  {
   "cell_type": "code",
   "execution_count": 3,
   "metadata": {},
   "outputs": [
    {
     "name": "stdout",
     "output_type": "stream",
     "text": [
      "パタトクカシーー\n"
     ]
    }
   ],
   "source": [
    "a = \"パトカー\"\n",
    "b = \"タクシー\"\n",
    "c = \"\"\n",
    "for k in range(len(a)):\n",
    "    c += a[k]+b[k]\n",
    "print(c)"
   ]
  },
  {
   "cell_type": "code",
   "execution_count": 4,
   "metadata": {},
   "outputs": [
    {
     "name": "stdout",
     "output_type": "stream",
     "text": [
      "['N', 'I', 'n', 'a', 'd', 'a', 'o', 'c', 'a', 't', 'h', 'l', 'i', 'q', 'm']\n"
     ]
    }
   ],
   "source": [
    "a = \"Now I need a drink, alcoholic of course, after the heavy lectures involving quantum mechanics.\"\n",
    "b = [w[0] for w in a.split()]\n",
    "print(b)"
   ]
  },
  {
   "cell_type": "code",
   "execution_count": 7,
   "metadata": {},
   "outputs": [
    {
     "name": "stdout",
     "output_type": "stream",
     "text": [
      "{0: 'H', 1: 'He', 2: 'L', 3: 'B', 4: 'B', 5: 'Co', 6: 'No', 7: 'Ox', 8: 'Fl', 9: 'Ne', 10: 'N', 11: 'M', 12: 'A', 13: 'S', 14: 'P', 15: 'Se', 16: 'Cl', 17: 'A', 18: 'K', 19: 'Ca'}\n"
     ]
    }
   ],
   "source": [
    "a = \"Hi He Lied Because Boron Could Not Oxidize Fluorine. New Nations Might Also Sign Peace Security Clause. Arthur King Can.\"\n",
    "b = [1, 5, 6, 7, 8, 9, 15, 16, 19]\n",
    "c = {k : w[:2] if k in b else w[0] for k,w in enumerate(a.split())}\n",
    "print(c)"
   ]
  },
  {
   "cell_type": "code",
   "execution_count": 23,
   "metadata": {},
   "outputs": [
    {
     "name": "stdout",
     "output_type": "stream",
     "text": [
      "([['I', 'am'], ['am', 'an'], ['an', 'NLPer']], ['Ia', 'am', 'ma', 'an', 'nN', 'NL', 'LP', 'Pe', 'er'])\n"
     ]
    }
   ],
   "source": [
    "def n_gram(n, words):\n",
    "    if type(words) == str:\n",
    "        words = words.split()\n",
    "    ngram_w = [words[i:i+n] for i in range(len(words)) if i < len(words)-n+1]\n",
    "    words = \"\".join(words)\n",
    "    ngram_l = [words[i:i+n] for i in range(len(words)) if i < len(words)-n+1]\n",
    "    return ngram_w, ngram_l\n",
    "a = n_gram(2, \"I am an NLPer\")\n",
    "print(a)"
   ]
  },
  {
   "cell_type": "code",
   "execution_count": 32,
   "metadata": {},
   "outputs": [
    {
     "name": "stdout",
     "output_type": "stream",
     "text": [
      "{'pa', 'ag', 'ap', 'gr', 'ph', 'ra', 'di', 'is', 'se', 'ad', 'ar'} {'pa', 'ra', 'ar', 'ap'} {'di', 'se', 'is', 'ad'}\n"
     ]
    }
   ],
   "source": [
    "a, X = n_gram(2,\"paraparaparadise\")\n",
    "b, Y = n_gram(2,\"paragraph\")\n",
    "X, Y = set(X), set(Y)\n",
    "sum_set = X|Y\n",
    "intersection = X&Y\n",
    "diff = X-Y\n",
    "print(sum_set, intersection, diff)"
   ]
  },
  {
   "cell_type": "code",
   "execution_count": 34,
   "metadata": {},
   "outputs": [
    {
     "name": "stdout",
     "output_type": "stream",
     "text": [
      "2時のポケモンはアブソル\n"
     ]
    }
   ],
   "source": [
    "def time_con(x,y,z):\n",
    "    a = str(x)+\"時の\"+str(y)+\"は\"+str(z)\n",
    "    return(a)\n",
    "print(time_con(2,\"ポケモン\",\"アブソル\"))"
   ]
  },
  {
   "cell_type": "code",
   "execution_count": 49,
   "metadata": {},
   "outputs": [
    {
     "name": "stdout",
     "output_type": "stream",
     "text": [
      "I dzmgvw hlnv nzihsnzooldh bvhgviwzb\n"
     ]
    }
   ],
   "source": [
    "def cipher(string):\n",
    "    a = [chr(219-ord(l)) if ord(l)>96 and ord(l)<123 else l for l in string ]\n",
    "    return(\"\".join(a))\n",
    "print(cipher(\"I wanted some marshmallows yesterday\"))"
   ]
  },
  {
   "cell_type": "code",
   "execution_count": 75,
   "metadata": {},
   "outputs": [
    {
     "name": "stdout",
     "output_type": "stream",
     "text": [
      "['I', 'cunlod’t', 'bieelve', 'that', 'I', 'cloud', 'allctauy', 'usartdennd', 'what', 'I', 'was', 'ridenag', ':', 'the', 'pnaenoheml', 'peowr', 'of', 'the', 'hmaun', 'mind', '.']\n"
     ]
    }
   ],
   "source": [
    "import random\n",
    "a = \"I couldn’t believe that I could actually understand what I was reading : the phenomenal power of the human mind .\"\n",
    "def mix(w):\n",
    "    r = w[0] + \"\".join(random.sample(w[1:-1], len(w)-2)) + w[-1]\n",
    "    return r\n",
    "b = [mix(w) if len(w)>4 else w for w in a.split()]\n",
    "print(b)"
   ]
  },
  {
   "cell_type": "code",
   "execution_count": null,
   "metadata": {},
   "outputs": [],
   "source": []
  }
 ],
 "metadata": {
  "kernelspec": {
   "display_name": "Python 3",
   "language": "python",
   "name": "python3"
  },
  "language_info": {
   "codemirror_mode": {
    "name": "ipython",
    "version": 3
   },
   "file_extension": ".py",
   "mimetype": "text/x-python",
   "name": "python",
   "nbconvert_exporter": "python",
   "pygments_lexer": "ipython3",
   "version": "3.7.4"
  }
 },
 "nbformat": 4,
 "nbformat_minor": 2
}
