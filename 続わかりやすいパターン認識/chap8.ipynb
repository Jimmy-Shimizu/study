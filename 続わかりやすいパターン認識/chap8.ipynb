{
 "cells": [
  {
   "cell_type": "markdown",
   "metadata": {},
   "source": [
    "### 前向き・後ろ向きアルゴリズム\n",
    "状態系列$s_t$  $t=0,...,n$  \n",
    "潜在変数(状態系列のラベル)$\\omega_i$  $i=0,...,c$  \n",
    "観測変数$x_k$  $k=0,...,m$  \n",
    "遷移確率$a_{i,j}$  \n",
    "出力確率:$b_{j,k}$  \n",
    "初期確率$\\rho_i$  \n",
    "時刻tにおいて状態系列のラベルがiとなる確率$\\alpha_t(i)$\n",
    "#### 前向き\n",
    "1. 初期化\n",
    "$$\n",
    "\\alpha_1(i) = \\rho_i b(\\omega_i, x_1) \\tag{i=1,2,...,c}\n",
    "$$\n",
    "2. 再帰的計算  \n",
    "\\begin{eqnarray}\n",
    "\\alpha_t(j) = [ \\sum_{i=1}^c a_{t-1}(i) a_{ij} ] b(\\omega_j,x_t) \\\\\n",
    "(t=2,3,...,n) (j=1,2,...,c)\n",
    "\\end{eqnarray}\n",
    "3. 確率の計算\n",
    "$$\n",
    "P(x) = \\sum_{i=1}^c \\alpha_n(i)\n",
    "$$\n",
    "\n",
    "#### 後ろ向き\n",
    "1. 初期化\n",
    "$$\n",
    "\\beta_n(i) = 1 \\tag{i=1,2,...,c}\n",
    "$$\n",
    "2. 再帰的計算\n",
    "$$\n",
    "\\beta_t(i) = \\sum_{j=1}^c a_{i,j} b(\\omega_j,x_{t+1}) \\beta_{t+1}(j) \\tag{t=1,2,...,(n-1)}\n",
    "$$"
   ]
  },
  {
   "cell_type": "code",
   "execution_count": 106,
   "metadata": {},
   "outputs": [],
   "source": [
    "import numpy as np\n",
    "c = 3 #状態数\n",
    "s = [ \"w1\", \"w2\", \"w3\" ] # 状態\n",
    "m = 2                    # 出力数\n",
    "v = [ \"v1\", \"v2\" ]       # 出力記号 \n",
    "\n",
    "rho = np.array([0.3, 0.2, 0.4])\n",
    "a = np.array([(0.8, 0.1, 0.1),(0.3, 0.3, 0.4),(0.1, 0.5, 0.4)])\n",
    "b = np.array([(0.8, 0.2),(0.1, 0.9),(0.1,0.9)])\n",
    "\n",
    "x = [ 1, 1, 1, 0 ]#観測データ\n",
    "T = len(x) #系列数\n",
    "#前向きアルゴリズム\n",
    "#初期化\n",
    "alpha = np.zeros((T,c))\n",
    "alpha[0] = rho * b[:,x[0]]\n",
    "#再帰的計算\n",
    "for t in range(T):\n",
    "    if t == 0:\n",
    "        continue\n",
    "    temp = 0\n",
    "    for i in range(c):\n",
    "        temp += alpha[t-1,i]*a[i]\n",
    "    alpha[t] = temp*b[:,x[t]]\n",
    "\n",
    "#後ろ向きアルゴリズム\n",
    "#初期化\n",
    "beta = np.zeros((T, c))\n",
    "beta[-1] = 1\n",
    "#再帰的計算\n",
    "for r in range(T):\n",
    "    t = T - 1 - r\n",
    "    if t == T-1:\n",
    "        continue\n",
    "    temp = 0\n",
    "    for j in range(c):\n",
    "        temp += a[:,j]* b[j,x[t+1]] * beta[t+1]\n",
    "    beta[t] = temp"
   ]
  },
  {
   "cell_type": "code",
   "execution_count": 107,
   "metadata": {},
   "outputs": [
    {
     "data": {
      "text/plain": [
       "array([[0.06      , 0.18      , 0.36      ],\n",
       "       [0.0276    , 0.216     , 0.1998    ],\n",
       "       [0.021372  , 0.150714  , 0.152172  ],\n",
       "       [0.0620232 , 0.01234374, 0.01232916]])"
      ]
     },
     "execution_count": 107,
     "metadata": {},
     "output_type": "execute_result"
    }
   ],
   "source": [
    "alpha"
   ]
  },
  {
   "cell_type": "code",
   "execution_count": 108,
   "metadata": {},
   "outputs": [
    {
     "data": {
      "text/plain": [
       "array([[0.076296, 0.147591, 0.117113],\n",
       "       [0.2244  , 0.2139  , 0.1411  ],\n",
       "       [0.66    , 0.31    , 0.17    ],\n",
       "       [1.      , 1.      , 1.      ]])"
      ]
     },
     "execution_count": 108,
     "metadata": {},
     "output_type": "execute_result"
    }
   ],
   "source": [
    "beta"
   ]
  },
  {
   "cell_type": "code",
   "execution_count": 75,
   "metadata": {},
   "outputs": [],
   "source": [
    "X = np.zeros((8,3))\n",
    "X[4:] = 1\n",
    "for i in range(len(X[0])):\n",
    "    if i == 0:\n",
    "        continuezよ\n",
    "    for x in range(len(X)):\n",
    "        if token:\n",
    "            X[x,i] = (X[x,i-1]+1)%2\n",
    "            token = False\n",
    "        else:\n",
    "            X[x,i] = X[x,i-1]\n",
    "            token = True\n"
   ]
  },
  {
   "cell_type": "code",
   "execution_count": 76,
   "metadata": {},
   "outputs": [
    {
     "data": {
      "text/plain": [
       "array([[0., 0., 0.],\n",
       "       [0., 1., 0.],\n",
       "       [0., 0., 0.],\n",
       "       [0., 1., 0.],\n",
       "       [1., 1., 1.],\n",
       "       [1., 0., 1.],\n",
       "       [1., 1., 1.],\n",
       "       [1., 0., 1.]])"
      ]
     },
     "execution_count": 76,
     "metadata": {},
     "output_type": "execute_result"
    }
   ],
   "source": [
    "X"
   ]
  },
  {
   "cell_type": "markdown",
   "metadata": {},
   "source": [
    "### ビタビアルゴリズム\n",
    "出力記号系列から観測できなかった状態系列を推定する  \n",
    "→観測結果をもたらす状態家列としてどんな系列が最適か求める  \n",
    "$\\gamma_t(i)$：観測結果xが得られた元で，t回目のサイコロが$\\omega_i$である確率\n",
    "$$\n",
    "\\gamma_t(i) = P(s_t=\\omega_i|x)\n",
    "$$"
   ]
  }
 ],
 "metadata": {
  "kernelspec": {
   "display_name": "Python 3",
   "language": "python",
   "name": "python3"
  },
  "language_info": {
   "codemirror_mode": {
    "name": "ipython",
    "version": 3
   },
   "file_extension": ".py",
   "mimetype": "text/x-python",
   "name": "python",
   "nbconvert_exporter": "python",
   "pygments_lexer": "ipython3",
   "version": "3.7.4"
  }
 },
 "nbformat": 4,
 "nbformat_minor": 2
}
