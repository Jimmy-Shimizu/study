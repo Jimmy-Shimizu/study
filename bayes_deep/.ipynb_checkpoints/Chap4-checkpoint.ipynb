{
 "cells": [
  {
   "cell_type": "markdown",
   "metadata": {},
   "source": [
    "## 近似ベイズ推論  \n",
    "解析的な推論ができないニューラルネットワークのような複雑な確率モデルでの近似的計算手法\n",
    "### 4.1 サンプリングに基づく推論手法\n",
    "観測データを${\\bf X}$，パラメータや潜在変数の集合を${\\bf Z}$とした時，  \n",
    "$p({\\bf Z}|{\\bf X})$を求めたい  \n",
    "→解析的に求められないので$p({\\bf Z}|{\\bf X})$から複数のサンプルを得ることで分布の特性を調べる  "
   ]
  },
  {
   "cell_type": "markdown",
   "metadata": {},
   "source": [
    "#### 4.1.1単純モンテカルロ法\n",
    "分布p(z)に関して$f(z)$の期待値$\\int f(z)p(z)dz$を求める\n",
    "1. $\\int f(z)p(z)dz$の解析的な積分計算は難しい\n",
    "2. 分布$p(z)$からのサンプリングは容易  \n",
    "\n",
    "という状況 \n",
    "\\begin{eqnarray}\n",
    "  \\int f(z)p(z)dz \\approx\\ \\frac{1}{T} \\sum_{t=1}^T f(z^{(t)}) \\tag{1}\\\\\n",
    "\\end{eqnarray}"
   ]
  },
  {
   "cell_type": "markdown",
   "metadata": {},
   "source": [
    "- p(z)から十分大きなT個のサンプルを抽出して近似している  \n",
    "\n",
    "$p(X,\\theta) = p(X|\\theta)p(\\theta)$の周辺尤度$p(X)$の評価に実際使おうとすると  \n",
    "- $p(\\theta)$は幅広く撮る必要がある  \n",
    "- $p(X|\\theta)$は特定の狭い$\\theta$でしか大きな値を取らない  \n",
    "ので実用されることは少ない"
   ]
  },
  {
   "cell_type": "markdown",
   "metadata": {},
   "source": [
    "#### 4.1.2 棄却サンプリング  \n",
    "目標分布\n",
    "$$\n",
    "p(z) = \\frac{1}{Z_p} \\tilde{p}(z) \\tag{2}\n",
    "$$\n",
    "からのサンプルを得たい"
   ]
  },
  {
   "cell_type": "markdown",
   "metadata": {},
   "source": [
    "- p(z)を直接計算できないので正規化されていない関数$\\tilde{p}(z)$を利用"
   ]
  },
  {
   "cell_type": "markdown",
   "metadata": {},
   "source": [
    "##### 手順\n",
    "$k>0$を$kq(z)>\\tilde{ p} (z)$となるように設定  \n",
    "サンプリングが簡単に行える仮の分布q(z)を設定  \n",
    "1. $z^{(t)} ~ q(z)$を得る  \n",
    "2. 一様分布からのサンプル$\\tilde{u} ~ Uni(u|0, kq(z^{(t)}))$を得る  \n",
    "3. $\\tilde{u}\\leq\\tilde{p}(z^{(t)})$であれば受容される時，サンプルが受容される確率は\n",
    "$$\n",
    "\\int q(z)\\frac{\\tilde{q}(z)}{kq(z)}dz = \\frac{1}{k}\\int \\tilde{p}(z)dz \\tag{3}\n",
    "$$"
   ]
  },
  {
   "cell_type": "markdown",
   "metadata": {},
   "source": [
    "となる  \n",
    "棄却サンプリングはニューラルネットワーク等の複雑なモデルで高次元の変数のサンプリングが必要とされる時サンプルの受容率が非常に低くなる"
   ]
  },
  {
   "cell_type": "markdown",
   "metadata": {},
   "source": [
    "#### 4.1.3 自己正規化重点サンプリング  \n",
    "p(z)から直接サンプリングが得られなくても使える手法  \n",
    "式(1)の期待値そのものを効率的に計算することを目標とする  \n",
    "式(1)は\n",
    "\\begin{eqnarray}\n",
    "    \\int f(z)p(z)dz = \\int f(z) \\frac{p(z)}{q(z)} q(z)dz\\\\\n",
    "    = \\mathbb{E} _{q(z)} \\left[ f(z) \\frac{\\tilde{p}(z)}{q(z)}\\right] \\\\\n",
    "    = \\frac{Z_q}{Z_p} \\mathbb{E}_{q_(z)} \\left[ f(z) \\frac{\\tilde{p}(z)}{\\tilde{q}(z)} \\right] \\\\\n",
    "    \\approx \\frac{Z_q}{Z_p} \\frac{1}{T} \\sum_{t=1}^T f(z^{(t)})w^{(t)} \\tag{4}\n",
    "\\end{eqnarray}"
   ]
  },
  {
   "cell_type": "markdown",
   "metadata": {},
   "source": [
    "となる\n",
    "- $w^{(t)} = \\frac{\\tilde{p}(z^{(t)})}{\\tilde{q}(z^{(t)})}$とおいた  \n",
    "\n",
    "正規化項の比$\\frac{Z_p}{Z_q}$は\n",
    "\\begin{eqnarray}\n",
    "    \\frac{Z_p}{Z_q} = \\int \\frac{\\tilde{p}(z)}{Z_q}dz\\\\\n",
    "    =\\int \\frac{\\tilde{p}(z)}{tilde{q}(z)} q(z)dz\\\\\n",
    "    =\\mathbb{E}_{q(z)} \\left[ \\frac{\\tilde{p}(z)}{tilde{q}(z)} \\right]\\\\\n",
    "    \\approx \\frac{1}{T} \\sum_{t=1}^T w^{(t)} \\tag{5}\n",
    "\\end{eqnarray}"
   ]
  },
  {
   "cell_type": "markdown",
   "metadata": {},
   "source": [
    "のようにq(z)からT個のサンプルを使って近似的に求められる  \n",
    "- 棄却サンプリングは直観的かつ実装も容易だが一次元程度の簡単な積分近似にしか適用できない"
   ]
  },
  {
   "cell_type": "markdown",
   "metadata": {},
   "source": [
    "#### 4.1.4 マルコフ連鎖モンテカルロ法\n",
    "- 高次元の空間で効率的にサンプリングを行うための手段  \n",
    "\n",
    "式(6)が成り立つ時，分布$p_*(z)$は定常分布であるという"
   ]
  },
  {
   "cell_type": "markdown",
   "metadata": {},
   "source": [
    "\\begin{eqnarray}\n",
    "    p_*(z) =\\int T(z', z)p_*(z')dz'. \\tag{6}\n",
    "\\end{eqnarray}"
   ]
  },
  {
   "cell_type": "markdown",
   "metadata": {},
   "source": [
    "- p(z)に一次マルコフ連鎖を仮定している\n",
    "- $ T(z', z)$は遷移確率\n",
    "\n",
    "遷移確率Tによって任意の初期状態$p_0$から定常分布$p_*$に収束できなければならない  \n",
    "->エルゴード性  \n",
    "   - 有限回数で遷移できること\n",
    "   - 全ての状態が固定の周期性を持たないこと\n",
    "   - 同じ状態に有限回で戻ることができること"
   ]
  },
  {
   "cell_type": "markdown",
   "metadata": {},
   "source": [
    "#### 4.1.5 メトロポリス・ヘイスティングス法  \n",
    "$p(x) \\propto \\tilde{p}(x)$で$\\tilde{p}(x)$は計算可能  \n",
    "遷移確率T(z',z)が求められない時には遷移の提案分布a(z|z')を使うことができる  "
   ]
  },
  {
   "cell_type": "markdown",
   "metadata": {},
   "source": [
    "##### アルゴリズム\n",
    "1. 提案分布$q(･|z^{(t)})$から次のサンプル候補$z_*$をサンプリングする\n",
    "2. 比率rを計算する  \n",
    "$$\n",
    "r = \\frac{\\tilde{p}(z_*)q(z^{(t)}|z_*)}{\\tilde{p}(z^{(t)})q(z_*|z^{(t)})} \\tag{7}\n",
    "$$\n",
    "3. 提案された点$z_*$を確率min(1,r)によって  \n",
    "$z^{(t+1)}\\leftarrow z_*$として受容し，そうでない場合は$z^{(t+1)}\\leftarrow z^{(t)}$とする"
   ]
  },
  {
   "cell_type": "markdown",
   "metadata": {},
   "source": [
    "提案分布としてはガウス分布が使われることが多い  "
   ]
  },
  {
   "cell_type": "markdown",
   "metadata": {},
   "source": [
    "#### 4.1.6 ハルミトニアンモンテカルロ法\n",
    "解析力学的な物体の軌道のシミュレーションとメトロポリス・ヘイスティングス法を組み合わせたサンプリング手法  \n",
    "事後分布の微分情報を利用することでガウス分布を適用したメトロポリス・ヘイスティングス法より効率的に事後分布の空間を探索できる  \n",
    "##### ハルミトニアン  \n",
    "ハルミトニアンHは運動エネルギーTとポテンシャルエネルギーVとして，全エネルギーを  \n",
    "$$H(z,p,t)=U(z)+K(p)\\tag{8}$$\n",
    "のように位置ベクトルz，運動量ベクトルp，時間tによって表した関数のこと  \n",
    "U(z)は位置によって決まるポテンシャルエネルギー，K(p)は運動エネルギー  \n",
    "質量1のとき$K(p)=\\frac{1}{2}p^tp$"
   ]
  },
  {
   "cell_type": "markdown",
   "metadata": {},
   "source": [
    "ハルミトニアンの偏微分\n",
    "\\begin{eqnarray}\n",
    "    \\frac{dp_i}{dt} = -\\frac{dH}{dz_i},\\\\\n",
    "    \\frac{dz_i}{dt} = \\frac{dH}{dp_i}\\tag{9}\n",
    "\\end{eqnarray}"
   ]
  },
  {
   "cell_type": "markdown",
   "metadata": {},
   "source": [
    "(9)を(8)に代入すれば\n",
    "\\begin{eqnarray}\n",
    "\\frac{dp_i}{dt} = -\\frac{dU}{dz_i}, \\\\\n",
    "\\frac{d_zi}{dt} = \\frac{dK}{dp_i}\\tag{10}\n",
    "\\end{eqnarray}"
   ]
  },
  {
   "cell_type": "markdown",
   "metadata": {},
   "source": [
    "(9)が解析的に得られないとして，数値シミュレーションによって物体の軌道を計算する．  \n",
    "##### オイラー法\n",
    "\\begin{eqnarray}\n",
    "p_i(t+\\epsilon) = p_i(t) + \\frac{dp_i}{d\\epsilon} \\tag{A1}\n",
    "\\end{eqnarray}"
   ]
  },
  {
   "cell_type": "markdown",
   "metadata": {},
   "source": [
    "(A1)は時間Tを$t+\\epsilon$として表し(離散化)解を定義する"
   ]
  },
  {
   "cell_type": "markdown",
   "metadata": {},
   "source": [
    "###### ピカールの逐次近似法\n",
    "\n",
    "- オイラー法の理解にあたって必要\n",
    "- 任意の区間内で初期条件$x(\\tau) = \\xi$を満たす解x(t)を求める\n",
    "    - これは$x(t) = \\xi + \\int_\\tau^t f(s, x(s)) ds$を求めることと同値"
   ]
  },
  {
   "cell_type": "markdown",
   "metadata": {},
   "source": [
    "#### オイラー法を用いて物体の軌道を計算\n",
    "\\begin{eqnarray}\n",
    "p_i(t+\\epsilon) = p_i(t) + \\left.\\frac{dp_i}{d\\epsilon}\\right|_t = p_i(t) - \\epsilon \\left.\\frac{dU}{dz_i}\\right|_{z_i(t)} \\\\\n",
    "z(t + \\epsilon) = z_i(t) + \\epsilon \\left.\\frac{dp_i}{dt}\\right|_t = z_i(t) + \\epsilon p_i(t) \n",
    "\\end{eqnarray}"
   ]
  },
  {
   "cell_type": "markdown",
   "metadata": {},
   "source": [
    "として時刻$\\epsilon>0$の挙動を近似的に予測する  \n",
    "→離散化による数値誤差が大きい  \n",
    "  <span style=\"color: red; \">\"近似\"は離散化のこと？</span>\n",
    "#### リープフロッグ法\n",
    "オイラー法の改良版(オイラー法は一次精度，リープフロッグ法は2次精度)  \n",
    "時間可逆性\n",
    "- n回積分したのち時間を逆にしてn回積分すれば元の位置に戻る  \n",
    "\n",
    "シンプレクティック性\n",
    "- エネルギー保存的なやつ 時間とともに誤差が増大することがない  \n",
    "\n",
    "という性質を持つのでハミルトニアンモンテカルロ法に利用される\n",
    "→比率rの計算時に確率変数の変換に伴うヤコビ行列お決定式を計算する必要がなくなるので計算効率化につながる  \n",
    "\\begin{eqnarray}\n",
    "p_i \\left( t+\\frac{\\epsilon}{2} \\right) = p_i(t) -\\left.\\frac{\\epsilon}{2}\\frac{dU}{dz_i} \\right|_{zi(t)}\\tag{A2}\\\\ \n",
    "z(t + \\epsilon) = z_i(t) + \\epsilon p_i\\left(t + \\frac{\\epsilon}{2}\\right)\\tag{A3} \\\\\n",
    "p_i(t+\\epsilon) = p_i\\left(t+\\frac{\\epsilon}{2}\\right) -\\left.\\frac{\\epsilon}{2}\\frac{dU}{dz_i}\\right|_{z_i(t+\\epsilon)}\\tag{A4}\n",
    "\\end{eqnarray}"
   ]
  },
  {
   "cell_type": "markdown",
   "metadata": {},
   "source": [
    "この手続きをL回繰り返すことで時刻$\\epsilon L$先の物体の位置$z_*$と運動量$p_*$を計算できる"
   ]
  },
  {
   "cell_type": "markdown",
   "metadata": {},
   "source": [
    "#### 4.1.6.2 サンプリングアルゴリズムへの適用\n",
    "リープフロッグ法を使ったシミュレーションをサンプリングアルゴリズムに適用する  \n",
    "サンプルを得たい確率分布$p(z)\\propto \\tilde{p}(z)$に対して補助分布${\\bf p}$を導入し  \n",
    "$p(z,p) = p(z)p({\\bf p})$のように拡張する  \n"
   ]
  },
  {
   "cell_type": "markdown",
   "metadata": {},
   "source": [
    "p(z)とp(p)は独立なので同時分布p(z)p(p)から得られるzのサンプルは周辺分布p(z)から得られたものと同一視できる  \n",
    "$p({\\bf p}) = N({\\bf p}|{\\bf 0, I})$とし，さらに$\\log \\tilde{p}(z)=-U(z)$とおいて同時分布を計算すると  "
   ]
  },
  {
   "cell_type": "markdown",
   "metadata": {},
   "source": [
    "\\begin{eqnarray}\n",
    "    p(z,p) = exp(\\log p(z) + \\log p({\\bf p})) \\\\\n",
    "    \\propto exp \\left( \\log \\tilde{p}(z) - \\frac{1}{2}{\\bf p}^t{\\bf I}{\\bf p}\\right) \\\\\n",
    "    = exp\\left( -U(z) - K(p) \\right)\\\\\n",
    "    = exp(-H(z,p)) \\tag{11}\n",
    "\\end{eqnarray}"
   ]
  },
  {
   "cell_type": "markdown",
   "metadata": {},
   "source": [
    "となり，式(11)は式(8)のハミルトニアンを表す  \n",
    "\n",
    "運動量${\\bf p}$をガウス分布に従ってサンプリングした後，ハルミトニアンのシミュレーションを行えば新しいサンプル点の候補$(z_*,p_*)$を得ることができる  \n"
   ]
  },
  {
   "cell_type": "markdown",
   "metadata": {},
   "source": [
    "この時シミュレーション上では物体はハミルトニアンHをほぼ一定に保ったまま軌道を描くので式(7)の比率r  \n",
    "\\begin{eqnarray}\n",
    "    r = \\frac{p(z_*,p_*)}{p(z,p)}\\\\\n",
    "    = exp(-H(z_*,p_*) + H(z,p))\n",
    "\\end{eqnarray}\n",
    "は常に1に近い値をとる  \n",
    "→受容率が非常に高い\n"
   ]
  },
  {
   "cell_type": "markdown",
   "metadata": {},
   "source": [
    "$\\epsilon$が小さいほどシミュレーションとの誤差が小さくなり受容率が上がるが遷移の移動量が小さくなるため効率的な探索が行えなくなる  \n",
    "Lが大きいほど移動量が大きくなるが計算コストが大きくなる  "
   ]
  },
  {
   "cell_type": "markdown",
   "metadata": {},
   "source": [
    "ハミルトニアンモンテカルロ法は事後分布の微分さえ計算できれば適用できる  \n",
    "→汎用性が高い  \n",
    "離散線代変数などの微分できない変数をそのままで扱うことはできない  "
   ]
  },
  {
   "cell_type": "markdown",
   "metadata": {},
   "source": [
    "#### 4.1.6.3 ランジュバン動力学法\n",
    "L=1とした場合をランジュバンモンテカルロ法もしくはランジュバン動力学法という  \n",
    "式A2をA3に代入すると，"
   ]
  },
  {
   "cell_type": "markdown",
   "metadata": {},
   "source": [
    "\\begin{eqnarray}\n",
    "    z_{*i} = z_i(t+\\epsilon) \\\\\n",
    "    = z_i(t) + \\epsilon \\left\\{ p_i(t) - \\left.\\frac{\\epsilon}{2}\\frac{dU}{dz_i}\\right|_{z_i(t)} \\right\\} \\\\\n",
    "    = z_i(t) - \\frac{\\epsilon ^2}{2}\\left.\\frac{dU}{dz_i}\\right|_{z_i(t)} + \\epsilon p_i(t)\n",
    "\\end{eqnarray}"
   ]
  },
  {
   "cell_type": "markdown",
   "metadata": {},
   "source": [
    "#### 4.1.7 ギブスサンプリング\n",
    "確率分布p(z)から直接Z全体をサンプリングすることが難しい場合に  \n",
    "ZをM個の部分集合に分けて逐次的にサンプリングを行う手法のこと  "
   ]
  },
  {
   "cell_type": "markdown",
   "metadata": {},
   "source": [
    "- サンプルを得たい変数の数が膨大な時\n",
    "- 複数の確率分布が組合わさった巨大な確率モデルからサンプルを得たい場合\n",
    "に特に有効  "
   ]
  },
  {
   "cell_type": "markdown",
   "metadata": {},
   "source": [
    "### 4.2 最適化に基づく推論手法  \n",
    "マルコフ連鎖モンテカルロ法は無限に計算を続ければサンプルを真の分布から得られたものと同一視して良い  \n",
    "→適切なサンプルサイズが決めにくい，計算コストが大きいなどの不便  \n",
    "⇔勾配情報を用いた数値最適化は実験的に速い収束性能を持つ"
   ]
  },
  {
   "cell_type": "markdown",
   "metadata": {},
   "source": [
    "#### 4.2.1 変分推論法  \n",
    "事後分布に出現する解析不能な積分を最適化問題に置き換えることで近似的に計算する  \n",
    "周辺尤度$p({\\bf X})$の計算には潜在変数Zの積分除去$p({\\bf X}) = \\int p({\\bf X, Z})d{\\bf Z}$が必要となるがモデルが複雑になるとこの積分は解析的に実行できないのでELBO(Evidence lower bound)という対数周辺尤度を考える"
   ]
  },
  {
   "cell_type": "markdown",
   "metadata": {},
   "source": [
    "##### ELBO\n",
    "変分推論のタスクを周辺尤度の下限の最大化とする  \n",
    "\\begin{eqnarray}\n",
    "    確率モデルp({\\bf X},{\\bf Z}) \\\\{\\bf X}:観測データ \\\\ {\\bf Z}:未観測の変数  \\\\\n",
    "    {\\bf Z}に関する確率分布q({\\bf Z})を仮定し，このモデルの周辺尤度p({\\bf X})を求めると\\\\  \n",
    "    \\log p({\\bf X}) = \\log \\int p({\\bf X}, {\\bf Z})d{\\bf Z} \\\\\n",
    "    = \\log \\int q({\\bf Z}) \\frac{p({\\bf X},{\\bf Z})}{q({\\bf Z})} d{\\bf Z} \\\\\n",
    "    \\geq \\int q({\\bf Z}) \\log \\frac{p({\\bf X},{\\bf Z})}{q({\\bf Z})} d{\\bf Z} \\tag{イェンセンの不等式}\\\\\n",
    "    = L[q({\\bf Z})]\n",
    "\\end{eqnarray}\n",
    "この式における$L[q(Z)]$を任意の確率分布$q(Z)$に対するELBOと呼ぶ  \n",
    "複雑な確率モデルでは周辺尤度を厳密に計算できないこともあるので代わりにL[q(Z)]をなるべく大きくするようなq(Z)を求めることで対数周辺尤度$\\log p(X)$を近似的に計算することができる  \n",
    "\n",
    "対数周辺尤度とELBOの差は\n",
    "$$\n",
    "\\log p(X) - L[q(Z)] = KL[q(Z)||p(Z|X)]\n",
    "$$\n",
    "なのでq(Z)とp(Z|X)のKLダイバージェンスになっている"
   ]
  },
  {
   "cell_type": "code",
   "execution_count": null,
   "metadata": {},
   "outputs": [],
   "source": []
  }
 ],
 "metadata": {
  "kernelspec": {
   "display_name": "Python 3",
   "language": "python",
   "name": "python3"
  },
  "language_info": {
   "codemirror_mode": {
    "name": "ipython",
    "version": 3
   },
   "file_extension": ".py",
   "mimetype": "text/x-python",
   "name": "python",
   "nbconvert_exporter": "python",
   "pygments_lexer": "ipython3",
   "version": "3.6.5"
  }
 },
 "nbformat": 4,
 "nbformat_minor": 2
}
