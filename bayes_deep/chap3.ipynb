{
 "cells": [
  {
   "cell_type": "markdown",
   "metadata": {},
   "source": [
    "### 3.1 確率推論\n",
    "#### 3.1.1 確率密度関数と確率質量関数\n",
    "$$\n",
    "{\\bf x} = (x_1, x_2, ..., x_M)^T \\in \\mathbb{R}^M\\\\\\\\\n",
    "p({\\bf x}) \\geq 0 \\\\\\\\\n",
    "\\int p(x)dx = \\int ...\\int p(x_1, ..., x_M)dx_1...dx_M = 1.\n",
    "$$\n",
    "p(x)が上の式を満たす時, p(x)を${\\bf確率密度関数}$と呼ぶ  \n",
    "p(x)が離散値をとる時は${\\bf 確率質量関数}$と呼ぶ\n",
    "#### 3.1.2 条件付き分布と周辺分布  \n",
    "条件付き分布$p(x|y)$においてyはxの分布の特性を決めるパラメータのようなものであると解釈できる  \n",
    "#### 3.1.3 期待値  \n",
    "期待値は確率分布の特徴を定量的に表す  \n",
    "2つの確率分布p(x),q(x)に対して以下のような期待値をKLダイバージェンスと呼ぶ  \n",
    "$$\n",
    "D_{KL} [q(x)||p(x)] = - \\int q(x) \\log \\frac{p(x)}{q(x)} dx\\\\\n",
    "= \\mathbb{E}_{q(x)}[\\log q(x)] - \\mathbb{E}_{q(x)} [\\log p(x)].\n",
    "$$\n",
    "#### 3.1.4 変数変換\n",
    "既知の確率密度関数に対してy=f(x)のように変数変換を行うことで新たな確率密度関数を導出する  \n",
    "既知の確率密度関数を$p_x({\\bf x})$とすると, 変換によって得られる確率密度関数は  \n",
    "$$\n",
    "p_y({\\bf y}) = p_x(g(y))|det({\\bf J})|\n",
    "ただし{\\bf J}はfの逆関数gのヤコビ行列でありdet(J)はJの行列式\n",
    "$$\n",
    "#### 3.1.5 グラフィカルモデル  \n",
    "DAG(directed acyclic graph)\n",
    "- ループ構造を持たない有向グラフ  \n",
    "$$\n",
    "p({\\bf X}, \\theta) = p(\\theta)p({\\bf X}|\\theta)\n",
    "$$\n",
    "$p(\\theta)$を事前分布、$p({\\bf X}|\\theta)$を尤度関数と呼ぶ  "
   ]
  },
  {
   "cell_type": "code",
   "execution_count": 67,
   "metadata": {},
   "outputs": [
    {
     "data": {
      "image/png": "[encoded data removed]",
      "text/plain": [
       "<Figure size 432x288 with 1 Axes>"
      ]
     },
     "metadata": {},
     "output_type": "display_data"
    },
    {
     "data": {
      "image/png": "[encoded data removed]",
      "text/plain": [
       "<Figure size 432x432 with 1 Axes>"
      ]
     },
     "metadata": {},
     "output_type": "display_data"
    },
    {
     "data": {
      "image/png": "[encoded data removed]",
      "text/plain": [
       "<Figure size 432x432 with 1 Axes>"
      ]
     },
     "metadata": {},
     "output_type": "display_data"
    }
   ],
   "source": [
    "import matplotlib.pyplot as plt\n",
    "import math\n",
    "import numpy as np\n",
    "\n",
    "x1 = np.random.normal(0.1, 1.0, 10000)\n",
    "plt.hist(x1,bins=50)\n",
    "plt.show()\n",
    "\n",
    "x2 = np.linspace(-4, 4, 100)\n",
    "y2 = np.tanh(x2)\n",
    "fig = plt.figure(figsize = (6, 6))\n",
    "ax = fig.add_subplot(111)\n",
    "ax.grid()\n",
    "ax.set_title(\"Hyperbolic function\", size = 15)\n",
    "ax.set_xlabel(\"x\", size = 15, labelpad = 10)\n",
    "ax.set_ylabel(\"y\", size = 15, labelpad = 10)\n",
    "ax.set_xlim([-4, 4])\n",
    "ax.set_ylim([-4, 4])\n",
    "ax.plot(x2, y2, color = \"red\", label = \"tanh(x)\")\n",
    "\n",
    "ax.legend(loc = \"lower right\", fontsize = 12)\n",
    "plt.show()\n",
    "y1 = np.tanh(x1)\n",
    "fig = plt.figure(figsize = (6, 6))\n",
    "ax = fig.add_subplot(111)\n",
    "ax.grid()\n",
    "ax.set_title(\"Hyperbolic function\", size = 15)\n",
    "ax.set_xlabel(\"x\", size = 15, labelpad = 10)\n",
    "ax.set_ylabel(\"y\", size = 15, labelpad = 10)\n",
    "plt.hist(y1, bins=20)\n",
    "plt.show()"
   ]
  },
  {
   "cell_type": "markdown",
   "metadata": {},
   "source": [
    "### 3.2 指数型分布族\n",
    "ガウス分布やディリクレ分布などの確率分布は指数型分布族と呼ばれる  \n",
    "#### 3.2.1 確率分布の例\n",
    "- ガウス分布\n",
    "    - p62\n",
    "- ベルヌーイ分布\n",
    "    - p49\n",
    "- カテゴリ分布\n",
    "    - p52\n",
    "- ガンマ分布\n",
    "    - p60\n",
    "#### 3.2.3.1 指数型分布族の定義  \n",
    "$$\n",
    "p({\\bf x}|{\\bf \\eta}) = h({\\bf x}) exp({\\bf \\eta} ^T t({\\bf x}) -a({\\bf \\eta})).\n",
    "$$\n",
    "の形式で書ける確率分布の族を指数型分布族と呼ぶ  \n",
    "$\\eta$を自然パラメータ  \n",
    "$t(x)$を十分統計量  \n",
    "$h(x)$を基底測度  \n",
    "$a( \\eta)$を対数分配関数と呼ぶ  \n",
    "対数分配関数は$a(\\eta) = \\log h(x)exp(\\eta ^T t(x))dx$が積分して1になることを保証するためのもの  \n",
    "#### 3.2.3.3 対数分配関数と十分統計量の関係  \n",
    "対数分配関数$a(\\eta)の$\\eta$に関する勾配は十分統計量$t(x)$の期待値になる"
   ]
  },
  {
   "cell_type": "markdown",
   "metadata": {},
   "source": [
    "### 3.3 ベイズ線形回帰\n",
    "線形回帰モデルを使ってベイズ推論によるモデルの学習とテストデータの予測をする  \n",
    "#### 3.3.1 モデル  \n",
    "$$\n",
    "p(Y, w | X) = p(w)p(Y|X,w) = p(w) \\prod_{n=1}^N p(y_n|x_n, w)\\\\\n",
    "p(y_n|x_n,w) = N(y_n|w^T \\phi (x_n), \\sigma^2_y).\n",
    "$$\n",
    "ガウス分布の平均値は特徴量関数$\\phi$によって決定されているとして  \n",
    "重みパラメータ$w$を学習したい  \n",
    "重みパラメータwに事前分布として\n",
    "$$\n",
    "p(w) = N(w|0, \\sigma ^2_{w} {\\bf I}).\n",
    "$$を与える  \n",
    "ベイズ線形回帰ではモデルからの関数$f(x;w) = w^T \\phi (x)$のサンプルが取れる  \n",
    "→データ観測以前に候補となる関数を事前分布からサンプリングすることによってモデルで想定されている関数の具体例を示すことができる\n",
    "#### 3.3.2.3 最尤推定との比較 \n",
    "最尤推定ではデータ数が増加しても予測の直線はほとんど変化しない  \n",
    "ベイズ推論で計算した予測分布は観測されたデータに応じて適切に都速の不確実性が変化している\n",
    "#### 3.3.4 逐次学習  \n",
    "ベイズ推論によるモデルの学習では事後分布によって学習結果を保存することにより新規に入っていくる学習データに適応的に学習を進めることができる  \n",
    "-> 逐次学習と呼ぶ  \n",
    "データを逐次的に与えた場合と一度に全て与えた場合とで最終的に得られる事後分布は一致する(データの生成過程に順序の依存性を仮定しない場合)  \n",
    "ニューラルネットワーク等の複雑なモデルでは逐次学習の各更新で重みパラメータwの事後分布が解析的に計算できなくなる  \n",
    "->モーメントマッチングなる手法で近似的に更新できるように(4章で出てくる)  \n",
    "#### 3.3.5 能動学習  \n",
    "効率的に学習用のラベルデータを収集する  \n",
    "1. ラベルのついていない入力集合$X_{pool}$から適切な入力データ点$x_q$を選ぶ\n",
    "2. 人間などのアノテーターからラベル$y_q$を得る  \n",
    "3. 予測分布の更新  \n",
    "\n",
    "新しい入力データ点を与え時の予測の不確かさが大きいものを入力データ点として選びたい  \n",
    "->予測分布のエントロピーが最大になるような入力$x_q$を選ぶ  \n",
    "$$\n",
    "x_q = argmax \\{ F(x_*)\\},\\\\\n",
    "F(x_*) = - \\mathbb{E}_{p(y_*|x_*, Y, X)} [\\log p(y_*|x_*, Y, X)]\n",
    "$$\n",
    "->予測がガウス分布になる場合には予測分布の分散が大きくなるようなデータ点を$X_{pool}$から選ぶと良い  \n",
    "このような予測の不確実性を利用した能動学習をベイズ最適化と呼ぶ  \n",
    "->課題に関する事前知識が与えにくいようなブラックボックス関数の最適化を目的としているので予測対象に関して弱い仮定を設定できるガウス過程を用いるのが一般的  "
   ]
  },
  {
   "cell_type": "markdown",
   "metadata": {},
   "source": [
    "### 最尤推定, MAP推定との関係\n",
    "#### 3.4.1 最尤推定と誤差最小化  \n",
    "線形回帰の場合はパラメータwに関する対数尤度関数の最大化は誤差関数の最大化と一致する  \n",
    "$$\n",
    "\\log p(Y|X, W) = \\frac{1}{2} \\sigma_y^{-2} \\sum_{n=1}^N \\{ y_n - f(x_n ; w) \\}^2 + c \\\\\n",
    "E(w) = \\frac{1}{2} \\sum_{n=1}^N \\{ y_n - {\\bf w}^T {\\bf \\phi} (x_n) \\}^2\n",
    "$$\n",
    "#### 3.4.2 MAP推定と正則化  \n",
    "最大事後確率推定(MAP推定)\n",
    "MAP推定ではパラメータの事後分布をwの関数と見た時、その関数の最大値をとるようなwを探索する  \n",
    "MAP推定はパラメータや予測値を分布でなく１点で推定を行うため、点推定と呼ぶ  \n",
    "->条件付き分布や周辺分布など確率計算のみに基づくベイズ推論とは区別する  "
   ]
  },
  {
   "cell_type": "code",
   "execution_count": null,
   "metadata": {},
   "outputs": [],
   "source": []
  }
 ],
 "metadata": {
  "kernelspec": {
   "display_name": "Python 3",
   "language": "python",
   "name": "python3"
  },
  "language_info": {
   "codemirror_mode": {
    "name": "ipython",
    "version": 3
   },
   "file_extension": ".py",
   "mimetype": "text/x-python",
   "name": "python",
   "nbconvert_exporter": "python",
   "pygments_lexer": "ipython3",
   "version": "3.6.5"
  }
 },
 "nbformat": 4,
 "nbformat_minor": 2
}
