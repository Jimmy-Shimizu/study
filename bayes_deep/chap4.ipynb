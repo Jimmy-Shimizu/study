{
 "cells": [
  {
   "cell_type": "markdown",
   "metadata": {},
   "source": [
    "## 近似ベイズ推論  \n",
    "解析的な推論ができないニューラルネットワークのような複雑な確率モデルでの近似的計算手法\n",
    "### 4.1 サンプリングに基づく推論手法\n",
    "観測データを${\\bf X}$，パラメータや潜在変数の集合を${\\bf Z}$とした時，  \n",
    "$p({\\bf Z}|{\\bf X})$を求めたい  \n",
    "→解析的に求められないので$p({\\bf Z}|{\\bf X})$から複数のサンプルを得ることで分布の特性を調べる  "
   ]
  },
  {
   "cell_type": "markdown",
   "metadata": {},
   "source": [
    "#### 4.1.1単純モンテカルロ法\n",
    "分布p(z)に関して\n",
    "$f(z)$\n",
    "の期待値$\\int f(z)p(z)dz$を求める\n",
    "1. $\\int f(z)p(z)dz$の解析的な積分計算は難しい\n",
    "2. 分布$p(z)$からのサンプリングは容易  \n",
    "\n",
    "という状況 \n",
    "\\begin{eqnarray}\n",
    "  \\int f(z)p(z)dz \\approx\\ \\frac{1}{T} \\sum_{t=1}^T f(z^{(t)}) \\tag{1}\\\\\n",
    "\\end{eqnarray}"
   ]
  },
  {
   "cell_type": "markdown",
   "metadata": {},
   "source": [
    "- p(z)から十分大きなT個のサンプルを抽出して近似している  \n",
    "\n",
    "$p(X,\\theta) = p(X|\\theta)p(\\theta)$の周辺尤度$p(X)$の評価に実際使おうとすると  \n",
    "- $p(\\theta)$は幅広く撮る必要がある  \n",
    "- $p(X|\\theta)$は特定の狭い$\\theta$でしか大きな値を取らない  \n",
    "ので実用されることは少ない"
   ]
  },
  {
   "cell_type": "markdown",
   "metadata": {},
   "source": [
    "#### 4.1.2 棄却サンプリング  \n",
    "目標分布\n",
    "$$\n",
    "p(z) = \\frac{1}{Z_p} \\tilde{p}(z) \\tag{2}\n",
    "$$\n",
    "からのサンプルを得たい"
   ]
  },
  {
   "cell_type": "markdown",
   "metadata": {},
   "source": [
    "- p(z)を直接計算できないので正規化されていない関数$\\tilde{p}(z)$を利用"
   ]
  },
  {
   "cell_type": "markdown",
   "metadata": {},
   "source": [
    "##### 手順\n",
    "$k>0$を$kq(z)>\\tilde{ p} (z)$となるように設定  \n",
    "サンプリングが簡単に行える仮の分布q(z)を設定  \n",
    "1. $z^{(t)} ~ q(z)$を得る  \n",
    "2. 一様分布からのサンプル$\\tilde{u} ~ Uni(u|0, kq(z^{(t)}))$を得る  \n",
    "3. $\\tilde{u}\\leq\\tilde{p}(z^{(t)})$であれば受容される時，サンプルが受容される確率は\n",
    "$$\n",
    "\\int q(z)\\frac{\\tilde{q}(z)}{kq(z)}dz = \\frac{1}{k}\\int \\tilde{p}(z)dz \\tag{3}\n",
    "$$"
   ]
  },
  {
   "cell_type": "markdown",
   "metadata": {},
   "source": [
    "となる  \n",
    "棄却サンプリングはニューラルネットワーク等の複雑なモデルで高次元の変数のサンプリングが必要とされる時サンプルの受容率が非常に低くなる"
   ]
  },
  {
   "cell_type": "markdown",
   "metadata": {},
   "source": [
    "#### 4.1.3 自己正規化重点サンプリング  \n",
    "p(z)から直接サンプリングが得られなくても使える手法  \n",
    "式(1)の期待値そのものを効率的に計算することを目標とする  \n",
    "式(1)は\n",
    "\\begin{eqnarray}\n",
    "    \\int f(z)p(z)dz = \\int f(z) \\frac{p(z)}{q(z)} q(z)dz\\\\\n",
    "    = \\mathbb{E} _{q(z)} \\left[ f(z) \\frac{\\tilde{p}(z)}{q(z)}\\right] \\\\\n",
    "    = \\frac{Z_q}{Z_p} \\mathbb{E}_{q_(z)} \\left[ f(z) \\frac{\\tilde{p}(z)}{\\tilde{q}(z)} \\right] \\\\\n",
    "    \\approx \\frac{Z_q}{Z_p} \\frac{1}{T} \\sum_{t=1}^T f(z^{(t)})w^{(t)} \\tag{4}\n",
    "\\end{eqnarray}"
   ]
  },
  {
   "cell_type": "markdown",
   "metadata": {},
   "source": [
    "となる\n",
    "- $w^{(t)} = \\frac{\\tilde{p}(z^{(t)})}{\\tilde{q}(z^{(t)})}$とおいた  \n",
    "\n",
    "正規化項の比$\\frac{Z_p}{Z_q}$は\n",
    "\\begin{eqnarray}\n",
    "    \\frac{Z_p}{Z_q} = \\int \\frac{\\tilde{p}(z)}{Z_q}dz\\\\\n",
    "    =\\int \\frac{\\tilde{p}(z)}{tilde{q}(z)} q(z)dz\\\\\n",
    "    =\\mathbb{E}_{q(z)} \\left[ \\frac{\\tilde{p}(z)}{tilde{q}(z)} \\right]\\\\\n",
    "    \\approx \\frac{1}{T} \\sum_{t=1}^T w^{(t)} \\tag{5}\n",
    "\\end{eqnarray}"
   ]
  },
  {
   "cell_type": "markdown",
   "metadata": {},
   "source": [
    "のようにq(z)からT個のサンプルを使って近似的に求められる  \n",
    "- 棄却サンプリングは直観的かつ実装も容易だが一次元程度の簡単な積分近似にしか適用できない"
   ]
  },
  {
   "cell_type": "markdown",
   "metadata": {},
   "source": [
    "#### 4.1.4 マルコフ連鎖モンテカルロ法\n",
    "- 高次元の空間で効率的にサンプリングを行うための手段  \n",
    "\n",
    "式(6)が成り立つ時，分布$p_*(z)$は定常分布であるという"
   ]
  },
  {
   "cell_type": "markdown",
   "metadata": {},
   "source": [
    "\\begin{eqnarray}\n",
    "    p_*(z) =\\int T(z', z)p_*(z')dz'. \\tag{6}\n",
    "\\end{eqnarray}"
   ]
  },
  {
   "cell_type": "markdown",
   "metadata": {},
   "source": [
    "- p(z)に一次マルコフ連鎖を仮定している\n",
    "- $ T(z', z)$は遷移確率\n",
    "\n",
    "遷移確率Tによって任意の初期状態$p_0$から定常分布$p_*$に収束できなければならない  \n",
    "->エルゴード性  \n",
    "   - 有限回数で遷移できること\n",
    "   - 全ての状態が固定の周期性を持たないこと\n",
    "   - 同じ状態に有限回で戻ることができること"
   ]
  },
  {
   "cell_type": "markdown",
   "metadata": {},
   "source": [
    "#### 4.1.5 メトロポリス・ヘイスティングス法  \n",
    "$p(x) \\propto \\tilde{p}(x)$で$\\tilde{p}(x)$は計算可能  \n",
    "遷移確率T(z',z)が求められない時には遷移の提案分布a(z|z')を使うことができる  "
   ]
  },
  {
   "cell_type": "markdown",
   "metadata": {},
   "source": [
    "##### アルゴリズム\n",
    "1. 提案分布$q(･|z^{(t)})$から次のサンプル候補$z_*$をサンプリングする\n",
    "2. 比率rを計算する  \n",
    "$$\n",
    "r = \\frac{\\tilde{p}(z_*)q(z^{(t)}|z_*)}{\\tilde{p}(z^{(t)})q(z_*|z^{(t)})} \\tag{7}\n",
    "$$\n",
    "3. 提案された点$z_*$を確率min(1,r)によって  \n",
    "$z^{(t+1)}\\leftarrow z_*$として受容し，そうでない場合は$z^{(t+1)}\\leftarrow z^{(t)}$とする"
   ]
  },
  {
   "cell_type": "markdown",
   "metadata": {},
   "source": [
    "提案分布としてはガウス分布が使われることが多い  "
   ]
  },
  {
   "cell_type": "markdown",
   "metadata": {},
   "source": [
    "#### 4.1.6 ハルミトニアンモンテカルロ法\n",
    "解析力学的な物体の軌道のシミュレーションとメトロポリス・ヘイスティングス法を組み合わせたサンプリング手法  \n",
    "事後分布の微分情報を利用することでガウス分布を適用したメトロポリス・ヘイスティングス法より効率的に事後分布の空間を探索できる  \n",
    "##### ハルミトニアン  \n",
    "ハルミトニアンHは運動エネルギーTとポテンシャルエネルギーVとして，全エネルギーを  \n",
    "$$H(z,p,t)=U(z)+K(p)\\tag{8}$$\n",
    "のように位置ベクトルz，運動量ベクトルp，時間tによって表した関数のこと  \n",
    "U(z)は位置によって決まるポテンシャルエネルギー，K(p)は運動エネルギー  \n",
    "質量1のとき$K(p)=\\frac{1}{2}p^tp$"
   ]
  },
  {
   "cell_type": "markdown",
   "metadata": {},
   "source": [
    "ハルミトニアンの偏微分\n",
    "\\begin{eqnarray}\n",
    "    \\frac{dp_i}{dt} = -\\frac{dH}{dz_i},\\\\\n",
    "    \\frac{dz_i}{dt} = \\frac{dH}{dp_i}\\tag{9}\n",
    "\\end{eqnarray}"
   ]
  },
  {
   "cell_type": "markdown",
   "metadata": {},
   "source": [
    "(9)を(8)に代入すれば\n",
    "\\begin{eqnarray}\n",
    "\\frac{dp_i}{dt} = -\\frac{dU}{dz_i}, \\\\\n",
    "\\frac{d_zi}{dt} = \\frac{dK}{dp_i}\\tag{10}\n",
    "\\end{eqnarray}"
   ]
  },
  {
   "cell_type": "markdown",
   "metadata": {},
   "source": [
    "(9)が解析的に得られないとして，数値シミュレーションによって物体の軌道を計算する．  \n",
    "##### オイラー法\n",
    "\\begin{eqnarray}\n",
    "p_i(t+\\epsilon) = p_i(t) + \\frac{dp_i}{d\\epsilon} \\tag{A1}\n",
    "\\end{eqnarray}"
   ]
  },
  {
   "cell_type": "markdown",
   "metadata": {},
   "source": [
    "(A1)は時間Tを$t+\\epsilon$として表し(離散化)解を定義する"
   ]
  },
  {
   "cell_type": "markdown",
   "metadata": {},
   "source": [
    "###### ピカールの逐次近似法\n",
    "\n",
    "- オイラー法の理解にあたって必要\n",
    "- 任意の区間内で初期条件$x(\\tau) = \\xi$を満たす解x(t)を求める\n",
    "    - これは$x(t) = \\xi + \\int_\\tau^t f(s, x(s)) ds$を求めることと同値"
   ]
  },
  {
   "cell_type": "markdown",
   "metadata": {},
   "source": [
    "#### オイラー法を用いて物体の軌道を計算\n",
    "\\begin{eqnarray}\n",
    "p_i(t+\\epsilon) = p_i(t) + \\left.\\frac{dp_i}{d\\epsilon}\\right|_t = p_i(t) - \\epsilon \\left.\\frac{dU}{dz_i}\\right|_{z_i(t)} \\\\\n",
    "z(t + \\epsilon) = z_i(t) + \\epsilon \\left.\\frac{dp_i}{dt}\\right|_t = z_i(t) + \\epsilon p_i(t) \n",
    "\\end{eqnarray}"
   ]
  },
  {
   "cell_type": "markdown",
   "metadata": {},
   "source": [
    "として時刻$\\epsilon>0$の挙動を近似的に予測する  \n",
    "→離散化による数値誤差が大きい  \n",
    "  <span style=\"color: red; \">\"近似\"は離散化のこと？</span>\n",
    "#### リープフロッグ法\n",
    "オイラー法の改良版(オイラー法は一次精度，リープフロッグ法は2次精度)  \n",
    "時間可逆性\n",
    "- n回積分したのち時間を逆にしてn回積分すれば元の位置に戻る  \n",
    "\n",
    "シンプレクティック性\n",
    "- エネルギー保存的なやつ 時間とともに誤差が増大することがない  \n",
    "\n",
    "という性質を持つのでハミルトニアンモンテカルロ法に利用される\n",
    "→比率rの計算時に確率変数の変換に伴うヤコビ行列お決定式を計算する必要がなくなるので計算効率化につながる  \n",
    "\\begin{eqnarray}\n",
    "p_i \\left( t+\\frac{\\epsilon}{2} \\right) = p_i(t) -\\left.\\frac{\\epsilon}{2}\\frac{dU}{dz_i} \\right|_{zi(t)}\\tag{A2}\\\\ \n",
    "z(t + \\epsilon) = z_i(t) + \\epsilon p_i\\left(t + \\frac{\\epsilon}{2}\\right)\\tag{A3} \\\\\n",
    "p_i(t+\\epsilon) = p_i\\left(t+\\frac{\\epsilon}{2}\\right) -\\left.\\frac{\\epsilon}{2}\\frac{dU}{dz_i}\\right|_{z_i(t+\\epsilon)}\\tag{A4}\n",
    "\\end{eqnarray}"
   ]
  },
  {
   "cell_type": "markdown",
   "metadata": {},
   "source": [
    "この手続きをL回繰り返すことで時刻$\\epsilon L$先の物体の位置$z_*$と運動量$p_*$を計算できる"
   ]
  },
  {
   "cell_type": "markdown",
   "metadata": {},
   "source": [
    "#### 4.1.6.2 サンプリングアルゴリズムへの適用\n",
    "リープフロッグ法を使ったシミュレーションをサンプリングアルゴリズムに適用する  \n",
    "サンプルを得たい確率分布$p(z)\\propto \\tilde{p}(z)$に対して補助分布${\\bf p}$を導入し  \n",
    "$p(z,p) = p(z)p({\\bf p})$のように拡張する  \n"
   ]
  },
  {
   "cell_type": "markdown",
   "metadata": {},
   "source": [
    "p(z)とp(p)は独立なので同時分布p(z)p(p)から得られるzのサンプルは周辺分布p(z)から得られたものと同一視できる  \n",
    "$p({\\bf p}) = N({\\bf p}|{\\bf 0, I})$とし，さらに$\\log \\tilde{p}(z)=-U(z)$とおいて同時分布を計算すると  "
   ]
  },
  {
   "cell_type": "markdown",
   "metadata": {},
   "source": [
    "\\begin{eqnarray}\n",
    "    p(z,p) = exp(\\log p(z) + \\log p({\\bf p})) \\\\\n",
    "    \\propto exp \\left( \\log \\tilde{p}(z) - \\frac{1}{2}{\\bf p}^t{\\bf I}{\\bf p}\\right) \\\\\n",
    "    = exp\\left( -U(z) - K(p) \\right)\\\\\n",
    "    = exp(-H(z,p)) \\tag{11}\n",
    "\\end{eqnarray}"
   ]
  },
  {
   "cell_type": "markdown",
   "metadata": {},
   "source": [
    "となり，式(11)は式(8)のハミルトニアンを表す  \n",
    "\n",
    "運動量${\\bf p}$をガウス分布に従ってサンプリングした後，ハルミトニアンのシミュレーションを行えば新しいサンプル点の候補$(z_*,p_*)$を得ることができる  \n"
   ]
  },
  {
   "cell_type": "markdown",
   "metadata": {},
   "source": [
    "この時シミュレーション上では物体はハミルトニアンHをほぼ一定に保ったまま軌道を描くので式(7)の比率r  \n",
    "\\begin{eqnarray}\n",
    "    r = \\frac{p(z_*,p_*)}{p(z,p)}\\\\\n",
    "    = exp(-H(z_*,p_*) + H(z,p))\n",
    "\\end{eqnarray}\n",
    "は常に1に近い値をとる  \n",
    "→受容率が非常に高い\n"
   ]
  },
  {
   "cell_type": "markdown",
   "metadata": {},
   "source": [
    "$\\epsilon$が小さいほどシミュレーションとの誤差が小さくなり受容率が上がるが遷移の移動量が小さくなるため効率的な探索が行えなくなる  \n",
    "Lが大きいほど移動量が大きくなるが計算コストが大きくなる  "
   ]
  },
  {
   "cell_type": "markdown",
   "metadata": {},
   "source": [
    "ハミルトニアンモンテカルロ法は事後分布の微分さえ計算できれば適用できる  \n",
    "→汎用性が高い  \n",
    "離散線代変数などの微分できない変数をそのままで扱うことはできない  "
   ]
  },
  {
   "cell_type": "markdown",
   "metadata": {},
   "source": [
    "#### 4.1.6.3 ランジュバン動力学法\n",
    "L=1とした場合をランジュバンモンテカルロ法もしくはランジュバン動力学法という  \n",
    "式A2をA3に代入すると，"
   ]
  },
  {
   "cell_type": "markdown",
   "metadata": {},
   "source": [
    "\\begin{eqnarray}\n",
    "    z_{*i} = z_i(t+\\epsilon) \\\\\n",
    "    = z_i(t) + \\epsilon \\left\\{ p_i(t) - \\left.\\frac{\\epsilon}{2}\\frac{dU}{dz_i}\\right|_{z_i(t)} \\right\\} \\\\\n",
    "    = z_i(t) - \\frac{\\epsilon ^2}{2}\\left.\\frac{dU}{dz_i}\\right|_{z_i(t)} + \\epsilon p_i(t)\n",
    "\\end{eqnarray}"
   ]
  },
  {
   "cell_type": "markdown",
   "metadata": {},
   "source": [
    "#### 4.1.7 ギブスサンプリング\n",
    "確率分布p(z)から直接Z全体をサンプリングすることが難しい場合に  \n",
    "ZをM個の部分集合に分けて逐次的にサンプリングを行う手法のこと  "
   ]
  },
  {
   "cell_type": "markdown",
   "metadata": {},
   "source": [
    "- サンプルを得たい変数の数が膨大な時\n",
    "- 複数の確率分布が組合わさった巨大な確率モデルからサンプルを得たい場合\n",
    "に特に有効  "
   ]
  },
  {
   "cell_type": "markdown",
   "metadata": {},
   "source": [
    "### 4.2 最適化に基づく推論手法  \n",
    "マルコフ連鎖モンテカルロ法は無限に計算を続ければサンプルを真の分布から得られたものと同一視して良い  \n",
    "→適切なサンプルサイズが決めにくい，計算コストが大きいなどの不便  \n",
    "⇔勾配情報を用いた数値最適化は実験的に速い収束性能を持つ"
   ]
  },
  {
   "cell_type": "markdown",
   "metadata": {},
   "source": [
    "#### 4.2.1 変分推論法  \n",
    "事後分布に出現する解析不能な積分を最適化問題に置き換えることで近似的に計算する  \n",
    "周辺尤度$p({\\bf X})$の計算には潜在変数Zの積分除去$p({\\bf X}) = \\int p({\\bf X, Z})d{\\bf Z}$が必要となるがモデルが複雑になるとこの積分は解析的に実行できないのでELBO(Evidence lower bound)という対数周辺尤度を考える"
   ]
  },
  {
   "cell_type": "markdown",
   "metadata": {},
   "source": [
    "##### ELBO\n",
    "変分推論のタスクを周辺尤度の下限の最大化とする  \n",
    "\\begin{eqnarray}\n",
    "    確率モデルp({\\bf X},{\\bf Z}) \\\\{\\bf X}:観測データ \\\\ {\\bf Z}:未観測の変数  \\\\\n",
    "    {\\bf Z}に関する確率分布q({\\bf Z})を仮定し，このモデルの周辺尤度p({\\bf X})を求めると\\\\  \n",
    "    \\log p({\\bf X}) = \\log \\int p({\\bf X}, {\\bf Z})d{\\bf Z} \\\\\n",
    "    = \\log \\int q({\\bf Z}) \\frac{p({\\bf X},{\\bf Z})}{q({\\bf Z})} d{\\bf Z} \\\\\n",
    "    \\geq \\int q({\\bf Z}) \\log \\frac{p({\\bf X},{\\bf Z})}{q({\\bf Z})} d{\\bf Z} \\tag{イェンセンの不等式を用いた}\\\\\n",
    "    = L[q({\\bf Z})] \\tag{12}\n",
    "\\end{eqnarray}\n",
    "この式における$L[q(Z)]$を任意の確率分布$q(Z)$に対するELBOと呼ぶ  \n",
    "複雑な確率モデルでは周辺尤度を厳密に計算できないこともあるので代わりにL[q(Z)]をなるべく大きくするようなq(Z)を求めることで対数周辺尤度$\\log p(X)$を近似的に計算することができる  \n",
    "\n",
    "対数周辺尤度とELBOの差は\n",
    "$$\n",
    "\\log p(X) - L[q(Z)] = KL[q(Z)||p(Z|X)]\n",
    "$$\n",
    "なのでq(Z)とp(Z|X)のKLダイバージェンスになっている"
   ]
  },
  {
   "cell_type": "markdown",
   "metadata": {},
   "source": [
    "式(12)の近似分布qの置き方は色々ある  \n",
    "潜在変数の集合ZをM個に分割する近似がよく使われる(らしい)  \n",
    "- 事後分布に独立性を仮定している  \n",
    "- 平均場近似と呼ばれる\n",
    "- 分割された集合間の相関は捕らえられない反面計算に必要なメモリは少なく済む  \n",
    "    - 近似分布の表現力が限定されているので真の事後分布が複雑な場合近似精度に限界がある  \n",
    "$$\n",
    "q(Z) = \\sum_{i=1}^M q(Z_i) \\tag{13}\n",
    "$$\n",
    "平均場近似では各近似分布($q(Z_1),...,q(Z_M)$)を交互に更新していく  \n",
    "- ギブスサンプリングに似た手続き"
   ]
  },
  {
   "cell_type": "markdown",
   "metadata": {},
   "source": [
    "#### 4.2.2 平均場近似による潜在変数モデルの学習 次元削減  \n",
    "\n"
   ]
  },
  {
   "cell_type": "markdown",
   "metadata": {},
   "source": [
    "観測データ$X=\\{x_1, x_2,...,x_N\\}$が入力変数$Z=\\{z_1, z_2,...,z_N\\}$の線形結合および固定のノイズ$\\sigma_x^2$によって決まると仮定する  \n",
    "\\begin{eqnarray}\n",
    "    p(X|Z,W) = \\sum_{n=1}^N p(x_n|z_n, w_n) \\\\\n",
    "    =\\sum_{n=1}^N N(x_n|W_{z_n}, \\sigma_x^2 I) \\tag{14}\n",
    "\\end{eqnarray}"
   ]
  },
  {
   "cell_type": "markdown",
   "metadata": {},
   "source": [
    "入力変数Zは未観測の潜在変数であるとし，  \n",
    "潜在変数，パラメータはそれぞれガウス分布によって生成されているとする  \n",
    "$$\n",
    "p(Z) = \\prod_{n=1}^N N(z_n | O,I)\\\\\n",
    "p(W) = \\prod_{i,j} N(w_{i,j}|o,\\sigma^2_w) \\tag{15}\n",
    "$$"
   ]
  },
  {
   "cell_type": "markdown",
   "metadata": {},
   "source": [
    "真の事後分布を\n",
    "$$\n",
    "p(Z,W|X) \\approx q(Z)q(W) \\tag{16}\n",
    "$$\n",
    "のようにqで分解近似"
   ]
  },
  {
   "cell_type": "markdown",
   "metadata": {},
   "source": [
    "この時，p(X)をZ,Wで周辺化した時の周辺尤度p(X)の下界Lは  \n",
    "\\begin{eqnarray}\n",
    "    L = \\int q(Z)q(W) \\log \\frac{p(X,Z,W)}{q(Z)q(W)} dZdW\\\\\n",
    "    = \\mathbb{E}_{q(Z)q(W)} [\\log p(X|Z,W)] - KL[q(Z)||p(Z)] -KL[q(W)||p(W)] \\tag{17}\n",
    "\\end{eqnarray}"
   ]
  },
  {
   "cell_type": "markdown",
   "metadata": {},
   "source": [
    "となる  \n",
    "\n",
    "変分推論法では$q(Z_i)$と$q(W_i)$を交互に固定して値を更新していく  "
   ]
  },
  {
   "cell_type": "markdown",
   "metadata": {},
   "source": [
    "##### 例：$q_i(Z)$を固定して$q_{i+1}(W)$の値を更新する  \n",
    "\\begin{eqnarray}\n",
    "    L_{q_i(Z)} = \\mathbb{E}_{q_i(Z)q_{i+1}(W)} [\\log p(X|Z,W)] - KL[q_{i+1}(W)||p(W)] +c \\\\\n",
    "    = - \n",
    "    \\mathbb{E}_{q_i(W)} \\left[ \\frac{ \\log exp(\\mathbb{E}_{q_i(Z)} [\\log p(X|W,Z)])p(W)}{q_{i+1}(W)} \\right] +c \\\\\n",
    "    = - KL[q_{i+1}(W)||r_i(W)] + c \\tag{18}\\\\\n",
    "    ただしr_i(w) \\propto \\log exp(\\mathbb{E}_{q_i(Z)} [\\log p(X|W,Z)])p(W)\\\\\n",
    "    また，\\int r_i(W)d(W) = 1\n",
    "\\end{eqnarray}\n",
    "ここの式の上から２行目参考書の方は誤植だと思われ(結論は合ってる)"
   ]
  },
  {
   "cell_type": "markdown",
   "metadata": {},
   "source": [
    "よって式(18)の最大化はKLダイバージェンスの最小化と等価なので最適解は\n",
    "$$\n",
    "q_{i+1}(W) = r_i(W) \\tag{19}\n",
    "$$"
   ]
  },
  {
   "cell_type": "markdown",
   "metadata": {},
   "source": [
    "式(19)のパラメータの近似事後分布の更新は変分Mステップと呼ぶ  \n",
    "同様にして$q_{i+1}(W)$を固定して$q_{i+1}(Z)$を求めるのをEステップと呼ぶ  "
   ]
  },
  {
   "cell_type": "markdown",
   "metadata": {},
   "source": [
    "線形次元削減モデルではEステップ，Mステップでの$r_i(W),r_i(Z)$が解析的に計算でき，ガウス分布になることがわかる  "
   ]
  },
  {
   "cell_type": "markdown",
   "metadata": {},
   "source": [
    "#### 4.2.2.2 混合ガウス分布への応用  \n",
    "連続な潜在変数Zの代わりに離散の潜在変数Sを用いたクラスタリングの場合  \n",
    "各潜在変数を$s_n \\in {0,1}^K$かつ$\\sum_{k=1}^K=1$として混合ガウス分布を考える  \n",
    "\\begin{eqnarray}\n",
    "    p(X|S,W) = \\prod_{n=1}^N p(x_n|s_n,W) \\\\\n",
    "    = \\prod_{n=1}^N N(x_n|W_{s_n}, \\sigma^2_x I) \\tag{20}\\\\\n",
    "    各潜在変数はカテゴリ分布\n",
    "    p(S) = \\prod_{n=1}^N Cat(s_n|\\pi)\\\\\n",
    "    各クラスタk=1,2,...,Kのパラメータはp(W)=\\prod_{i,j} N(w_{i,j}|o,\\sigma_w^2)\\\\に従うとする\n",
    "\\end{eqnarray}"
   ]
  },
  {
   "cell_type": "markdown",
   "metadata": {},
   "source": [
    "このモデルの事後分布も平均場近似を用いて$p(S,W|X) \\approx q(S)q(W)$のように分解すれば線形次元削減と同じ方法で変分EMアルゴリズムが得られる  "
   ]
  },
  {
   "cell_type": "markdown",
   "metadata": {},
   "source": [
    "#### 4.2.4 ラプラス近似  \n"
   ]
  },
  {
   "cell_type": "markdown",
   "metadata": {},
   "source": [
    "事後分布をガウス分布で近似する手法  \n",
    "\\begin{eqnarray}\n",
    "    p(Z|X) \\approx N(Z|Z_{MAP}, \\{\\Lambda(Z_{MAP})\\}^{-1} \\tag{21} \\\\\n",
    "    ただし，\\Lambda(Z) = -\\nabla^2_Z \\log p(Z|X) \n",
    "\\end{eqnarray}"
   ]
  },
  {
   "cell_type": "markdown",
   "metadata": {},
   "source": [
    "$¥labmda(Z)$は対数事後分布のヘッセ行列を負にしたもの  \n",
    "発想としてはp(Z|X)が最大値をとる値の付近に限定すればp(Z|X)をガウス分布に近似できるよねというもの  \n",
    "もっとちゃんと言うとこれは$Z_{MAP}$周りのテイラー展開で2次近似することに対応している  \n",
    "\\begin{eqnarray}\n",
    "    \\log p(Z|X) \\approx \\log p(Z_{MAP} |X) +(Z-Z_{MAP})^T\\nabla_Z \\log p(Z|X)|_{Z=Z_{MAP}} + (Z-Z_{MAP})^T\\nabla^2_Z \\log p(Z|X)|_{Z=Z_{MAP}}(Z-Z_{MAP}) \\\\\n",
    "    = \\log p(Z_{MAP}|X)+(Z-Z_{MAP})^T\\nabla_Z^2 \\log p(Z|X)|_{Z=Z_{MAP}}(Z-Z_{MAP}) \\tag{22}\n",
    "\\end{eqnarray}\n",
    "($Z_{MAP}で\\nabla_Z \\log p(Z|X) = 0$を利用)"
   ]
  },
  {
   "cell_type": "markdown",
   "metadata": {},
   "source": [
    "式(22)の指数をとると\n",
    "$$\n",
    "p(Z|X) \\propto exp(-(Z-Z_{MAP})^T \\Lambda (Z_{MAP})(Z-Z_{MAP}))\n",
    "$$"
   ]
  },
  {
   "cell_type": "markdown",
   "metadata": {},
   "source": [
    "と近似され，式(21)のガウス分布による表現が得られる  \n",
    "- ラプラス近似は既存の正規化やMAP推定に基づくパラメータの学習手法から簡単に拡張を行える\n",
    "- ヘッセ行列を求めるコストが大きい(パラメータ数の二乗のオーダー)\n",
    "- 離散や非負の実数上で定義される確率分布に直接は適用できない(ガウス分布による近似なので)"
   ]
  },
  {
   "cell_type": "markdown",
   "metadata": {},
   "source": [
    "#### 4.2.4 モーメントマッチングによる近似\n",
    "求めたい複雑な確率を次のような指数分布による近似分布q(z)で表す\n",
    "$$\n",
    "q(z;\\eta) = h(z)exp(\\eta ^T t(z) -a(\\eta)) \\tag{23}\n",
    "$$"
   ]
  },
  {
   "cell_type": "markdown",
   "metadata": {},
   "source": [
    "KLダイバージェンスを$KL[p(z)||q(z;\\eta)] \\tag{24}$とおく  \n",
    "- 普段のKLダイバージェンスとp,qの順番が逆になっている  \n",
    "\n",
    "式(24)に式(23)を代入して自然パラメータ$\\eta$に関してKLダイバージェンスを最小化したい  \n",
    "$\\eta$について整理すると\n",
    "$$\n",
    "式(24) = -\\mathbb{E}_p[\\log q(z;\\eta)] + \\mathbb{E}_p [\\log p(z)] \\\\\n",
    "= -\\eta ^T \\mathbb{E}_p [t(z)] + a(\\eta) + c\n",
    "$$"
   ]
  },
  {
   "cell_type": "markdown",
   "metadata": {},
   "source": [
    "$\\eta$に対する勾配を計算し，ゼロと置けば, 対数分配関数$a(\\eta)$の$\\eta$に関する勾配が十分統計量t(z)の期待値であることから  \n",
    "$$\n",
    "\\mathbb{E}_q[t(z)] = \\mathbb{E}_p[t(z)]\n",
    "$$"
   ]
  },
  {
   "cell_type": "markdown",
   "metadata": {},
   "source": [
    "指数型分布族を用いて分布p(z)を式(24)の基準で最適に近似するためには，$\\mathbb{E}_p[t(z)]$(p(z)のモーメントを計算し，その結果を用いて指数型分布族のパラメータ$\\eta$を決定すれば良い  "
   ]
  },
  {
   "cell_type": "markdown",
   "metadata": {},
   "source": [
    "#### 4.2.4.2 仮定密度フィルタリング\n",
    "\n",
    "モーメントマッチングによる近似推論の最もシンプルな近似逐次手法  \n",
    "データ集合$D_1$を観測した後の事後分布は  \n",
    "$$\n",
    "p(\\theta|D_1) \\propto p(D_1 | \\theta ) p(\\theta) \\tag{25}\n",
    "$$"
   ]
  },
  {
   "cell_type": "markdown",
   "metadata": {},
   "source": [
    "尤度関数$p(D_1|\\theta)$と事前分布$p(\\theta)$の間に共役性がが成り立てば解析的に事後分布を更新していける  \n",
    "→共役性の成り立たないモデルのことを考えていく  \n",
    "$p(\\theta|D_1)$に対する近似分布$q_1(\\theta)$を設定する  \n",
    "$$\n",
    "q_1(\\theta) \\approx r_1(\\theta) = \\frac{1}{Z_1} p(D_1|\\theta)p(\\theta) \\tag{26} \\\\\n",
    "ただしZ_1 =\\int p(D_1|\\theta )p(\\theta)d\\theta\n",
    "$$"
   ]
  },
  {
   "cell_type": "markdown",
   "metadata": {},
   "source": [
    "式(26)の右辺を計算して，それと一致するモーメントを持つように左辺$q_1$のパラメータを設定する  \n",
    "\n",
    "続く$q_i$も以下のように計算していく\n",
    "$$\n",
    "q_{i+1}(\\theta) \\approx r_{i+1}(\\theta) = \\frac{1}{Z_{i+1}} p(D_{i+1}|\\theta)q_i(\\theta) \\tag{27} \\\\\n",
    "$$\n",
    "このように計算していけば同じ分布の形式を保ったまま近似事後分布の更新ができる  "
   ]
  },
  {
   "cell_type": "markdown",
   "metadata": {},
   "source": [
    "#### 4.2.4.3 ガウス分布の例  \n",
    "式(27)で分布$q(\\theta)$がガウス分布の場合  \n",
    "$$q_i(\\theta) = N(\\theta|\\mu_i,v_i)\\tag{28}$$\n",
    "正規化定数$Z_{i+1}$は\n",
    "\\begin{eqnarray}\n",
    "Z_{i+1} = \\int f_{i+1}(\\theta)q_i(\\theta)d\\theta \\\\\n",
    "=\\int f_{i+1}(\\theta)\\frac{1}{\\sqrt{2\\pi v_i}}exp\\left(-\\frac{(\\theta-\\mu)^2}{2v_i}\\right) d\\theta \\tag{28}\n",
    "\\end{eqnarray}"
   ]
  },
  {
   "cell_type": "markdown",
   "metadata": {},
   "source": [
    "$Z_i$の対数をパラメータ$\\mu_i$で偏微分すれば  \n",
    "\\begin{eqnarray}\n",
    "\\frac{\\partial}{\\partial\\mu_i}\\log Z_{i+1} = \\frac{1}{Z_{i+1}} \\int f_{i+1}(\\theta)N(\\theta|\\mu_i,v_i)\\frac{\\theta - \\mu_i}{v_i}d\\theta \\\\\n",
    "= \\frac{\\mathbb{E}_{r_i+1}[\\theta]-\\mu_i}{v_i}\\tag{29}\n",
    "\\end{eqnarray}"
   ]
  },
  {
   "cell_type": "markdown",
   "metadata": {},
   "source": [
    "$Z_i$の対数をパラメータ$v_i$で偏微分すれば  \n",
    "\\begin{eqnarray}\n",
    "\\frac{\\partial}{\\partial v_i}\\log Z_{i+1} = \\frac{1}{Z_{i+1}} \\int f_{i+1}(\\theta)N(\\theta|\\mu_i,v_i)\\left\\{- \\frac{1}{2v_i} + \\frac{(\\theta - \\mu_i)^2}{2v_i^2}\\right\\}d\\theta \\\\\n",
    "= -\\frac{1}{2v_i} + \\frac{1}{2v_i^2}\\{\\mathbb{E}_{r_i+1}[\\theta^2]-2\\mu_i\\mathbb{E}_{r_i+1}[\\theta]+ \\mu_i^2 \\} \\tag{30}\n",
    "\\end{eqnarray}"
   ]
  },
  {
   "cell_type": "markdown",
   "metadata": {},
   "source": [
    "よって式(29)，(30)より，一次のモーメントは\n",
    "$$\n",
    "\\mathbb{E}_{r_i+1}[\\theta] = \\mu_i + v_i \\frac{\\partial}{\\partial \\mu_i} \\log Z_{i+1} \\tag{31}\n",
    "$$\n",
    "\n",
    "二次のモーメントは  \n",
    "$$\n",
    "\\mathbb{E}_{r_i+1}[\\theta^2] = 2v_i^2 \\frac{\\partial}{\\partial v_i} \\log Z_{i+1} + v + 2\\mu_i \\mathbb{E}_{r_i+1}[\\theta] -\\mu^2 \\tag{32}\n",
    "$$\n",
    "となる  "
   ]
  },
  {
   "cell_type": "markdown",
   "metadata": {},
   "source": [
    "式(29)と式(31)の結果を用いればモーメントマッチングによって得られる新しい分布$q_{i+1}$のパラメータは  \n",
    "$$\n",
    "\\mu_i = \\mathbb{E}_{r_i+1}[\\theta]\\\\\n",
    "v_{i+1} = \\mathbb{E}_{r_i+1}[\\theta^2] -\\mathbb{E}_{r_i+1}[\\theta]^2\n",
    "$$\n",
    "なので式(31),(32)を用いて更新できる  \n",
    "ただし，これらの値が計算には正規化定数$Z_{i+1}$の計算ができることが条件となる"
   ]
  },
  {
   "cell_type": "markdown",
   "metadata": {},
   "source": [
    "#### 4.2.5 プロビット回帰  \n",
    "プロビット回帰の尤度関数は  \n",
    "$$\n",
    "p(Y|X,w) = \\prod_{n=1}^N p(y_n|x_n,w) \\\\\n",
    "= \\prod_{n=1}^N \\Phi (y_n w x_n)\\tag{33}\\\\\n",
    "\\Phi (x) = \\int_{-\\infty}^x N(t|0,1)dt\\\\\n",
    "パラメータの事前分布はガウス分布 p(w) = N(w|0,v_0)\n",
    "$$"
   ]
  },
  {
   "cell_type": "markdown",
   "metadata": {},
   "source": [
    "このモデルの周辺尤度$Z = \\int p(Y|X,w)p(w)dw$が解析的に計算できない  \n",
    "代わりにモーメントマッチングによる近似的な事後分布の更新で尤度の項$f_i(w)=p(y_i|x_i,w)$を1つずつ追加していくことを考える  \n",
    "パラメータの事後分布の近似にはガウス分布を使用する  \n",
    "\\begin{eqnarray}\n",
    "    q_1(w) \\approx p(w|y_1,x_1) = \\frac{1}{Z_1}p(y_1|x_1,w)p(w)\\\\\n",
    "    q_{i+1}(w) \\approx \\frac{1}{Z_{i+1}}f_{i+1}(w)q_i(w) \\tag{34}\n",
    "\\end{eqnarray}"
   ]
  },
  {
   "cell_type": "markdown",
   "metadata": {},
   "source": [
    "ガウス分布を用いた近似更新を行うためには式(31),(32)より$Z_i$の微分が必要となる  \n",
    "プロビット回帰において正規化定数$Z_i$は解析的に計算できるので実行可能  "
   ]
  },
  {
   "cell_type": "markdown",
   "metadata": {},
   "source": [
    "#### 4.2.6 期待値伝播法  \n",
    "仮定密度フィルタリングをパッチ学習できるように一般化した方法\n",
    "- 学習データの順序に依存しない  \n",
    "- 学習に使ったデータを捨てないので仮定密度フィルタリングより精度の高い近似事後分布を得られる"
   ]
  },
  {
   "cell_type": "markdown",
   "metadata": {},
   "source": [
    "モデル\n",
    "$$\n",
    "p(X,\\theta) = p(\\theta)\\prod_{n=1}^N p(X_n|\\theta) = \\prod_{n=1}^N f_n(\\theta) \\tag{35}\n",
    "$$"
   ]
  },
  {
   "cell_type": "markdown",
   "metadata": {},
   "source": [
    "$f_n$は因子(factor)と呼ばれるもので以下の対応関係を持つ  \n",
    "$$\n",
    "f_n(\\theta) = \\begin{cases}p(\\theta),\\quad if \\quad　n=0\\\\\n",
    "p(x_n|\\theta),\\quad if\\quad n>0\n",
    "\\end{cases}\n",
    "$$"
   ]
  },
  {
   "cell_type": "markdown",
   "metadata": {},
   "source": [
    "因子を使って書くとこのモデルの事後分布は  \n",
    "$$\n",
    "p(\\theta|X) = \\frac{p(\\theta)\\prod_{n=0}^Nf_b(\\theta)}{p(X)} \\tag{36}\n",
    "$$"
   ]
  },
  {
   "cell_type": "markdown",
   "metadata": {},
   "source": [
    "となる  \n",
    "この事後分布に対する近似分布を近似因子$\\tilde{f}_n$の積で表現する  \n",
    "$$\n",
    "q(\\theta) = \\frac{1}{Z} \\prod_{n=1}^N\\tilde{f}_n(\\theta) \\tag{37}\n",
    "$$\n",
    "Zは正規化を保証する定数  \n",
    "ガウス分布を近似因子として選ぶと\n",
    "$$\n",
    "\\tilde{f}_n = N(\\theta| \\mu_n , \\Sigma_n) \\tag{38}\n",
    "$$\n",
    "式(37)より，N＋1個の近似因子の積を正規化することによって得られる$q(\\theta)$もガウス分布になる"
   ]
  },
  {
   "cell_type": "markdown",
   "metadata": {},
   "source": [
    "仮定密度フィルタリングのように逐次的に更新していく場合  \n",
    "更新途中における現在の近似分布からi番目の現在の近似因子を取り除く\n",
    "$$\n",
    "q_{\\\\i}(\\theta) = \\prod_{j\\neq i}\\tilde{f}_j(\\theta) = \\frac{q_{old}(\\theta)}{\\tilde{f}_i(\\theta)}\n",
    "$$\n",
    "\n",
    "近似因子を取り除いた$q(\\theta)$に対してモデルの因子$f_i(\\theta)$を追加し，\\\\正規化したものを$r(\\theta)=\\frac{1}{Z_i}f_i(\\theta)_{\\\\i}(\\theta)$とおく  \n",
    "$r(\\theta)$のモーメントを計算してこれを新しい近似分布のモーメントにし，次の近似因子を\n",
    "$$\n",
    "\\tilde{f}_i(\\theta) \\leftarrow Z_i \\frac{q_{new}(\\theta)}{q_{\\\\i}(\\theta)}\n",
    "$$\n",
    "として更新する"
   ]
  }
 ],
 "metadata": {
  "kernelspec": {
   "display_name": "Python 3",
   "language": "python",
   "name": "python3"
  },
  "language_info": {
   "codemirror_mode": {
    "name": "ipython",
    "version": 3
   },
   "file_extension": ".py",
   "mimetype": "text/x-python",
   "name": "python",
   "nbconvert_exporter": "python",
   "pygments_lexer": "ipython3",
   "version": "3.7.4"
  }
 },
 "nbformat": 4,
 "nbformat_minor": 2
}
