{
 "cells": [
  {
   "cell_type": "markdown",
   "metadata": {},
   "source": [
    "オブジェクトの中身をいじりたい時(新しいオブジェクトを作りたい時)にクラスを使う  \n",
    "\n",
    "### オブジェクト\n",
    "- データ\n",
    "    - 変数、属性とも\n",
    "- コード\n",
    "    - 関数、メソッドとも"
   ]
  },
  {
   "cell_type": "code",
   "execution_count": 6,
   "metadata": {},
   "outputs": [],
   "source": [
    "class Person():\n",
    "    def __init__(self, name):\n",
    "        self.name = name"
   ]
  },
  {
   "cell_type": "code",
   "execution_count": 8,
   "metadata": {},
   "outputs": [],
   "source": [
    "someone = Person('Ellen')"
   ]
  },
  {
   "cell_type": "markdown",
   "metadata": {},
   "source": [
    "全てのクラス定義が'__init__'を持たなければならないわけではない。  \n",
    "'__init__'は同じクラスから作られた他のオブジェクトからこのオブジェクトを区別するために使われる"
   ]
  },
  {
   "cell_type": "markdown",
   "metadata": {},
   "source": [
    "#### super()\n",
    "子クラスが親メソッドを呼び出したい時に使う"
   ]
  },
  {
   "cell_type": "code",
   "execution_count": 9,
   "metadata": {},
   "outputs": [],
   "source": [
    "class Person():\n",
    "    def __init__(self, name):\n",
    "        self.name = name"
   ]
  },
  {
   "cell_type": "code",
   "execution_count": 10,
   "metadata": {},
   "outputs": [],
   "source": [
    "class EmailPerson(Person): #Personの継承クラス\n",
    "    def __init__(self, name, email): #引数としてemailを追加\n",
    "        super().__init__(name) #super()で親クラスを呼び出してnameを渡す\n",
    "        self.email = email #EmailPersonとしての新しいコード"
   ]
  },
  {
   "cell_type": "code",
   "execution_count": null,
   "metadata": {},
   "outputs": [],
   "source": []
  }
 ],
 "metadata": {
  "kernelspec": {
   "display_name": "Python 3",
   "language": "python",
   "name": "python3"
  },
  "language_info": {
   "codemirror_mode": {
    "name": "ipython",
    "version": 3
   },
   "file_extension": ".py",
   "mimetype": "text/x-python",
   "name": "python",
   "nbconvert_exporter": "python",
   "pygments_lexer": "ipython3",
   "version": "3.7.4"
  }
 },
 "nbformat": 4,
 "nbformat_minor": 2
}
