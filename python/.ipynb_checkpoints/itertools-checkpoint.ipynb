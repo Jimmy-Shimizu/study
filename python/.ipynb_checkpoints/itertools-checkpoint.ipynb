{
 "cells": [
  {
   "cell_type": "code",
   "execution_count": 13,
   "metadata": {},
   "outputs": [],
   "source": [
    "from itertools import groupby"
   ]
  },
  {
   "cell_type": "code",
   "execution_count": 33,
   "metadata": {},
   "outputs": [],
   "source": [
    "#このデータをdept別にファイルに出力したい\n",
    "emp_list = [\n",
    "  {'dept': 10, 'ename': 'scott'},\n",
    "  {'dept': 10, 'ename': 'john'},\n",
    "  {'dept': 10, 'ename': 'tom'},\n",
    "  {'dept': 20, 'ename': 'bob'},\n",
    "  {'dept': 20, 'ename': 'maria'},\n",
    "]"
   ]
  },
  {
   "cell_type": "markdown",
   "metadata": {},
   "source": [
    "普通にdeptが変わるまで溜め込んでからファイルに書き込むようにすると最後のデータ群を書き込む処理をif文で分岐して書き込む処理が必要になる  \n",
    "    ->コードが一部重複する"
   ]
  },
  {
   "cell_type": "code",
   "execution_count": 34,
   "metadata": {},
   "outputs": [],
   "source": [
    "#groupbyを使ってかく\n",
    "dept_emp_groups = groupby(emp_list, lambda e:e['dept'])"
   ]
  },
  {
   "cell_type": "code",
   "execution_count": 35,
   "metadata": {},
   "outputs": [
    {
     "name": "stdout",
     "output_type": "stream",
     "text": [
      "<class 'itertools.groupby'>\n"
     ]
    }
   ],
   "source": [
    "print(type(dept_emp_groups))\n",
    "#groupbyの返り値はイテレータが帰ってくる"
   ]
  },
  {
   "cell_type": "code",
   "execution_count": 36,
   "metadata": {},
   "outputs": [
    {
     "name": "stdout",
     "output_type": "stream",
     "text": [
      "dept-10.txt wt\n",
      "{'dept': 10, 'ename': 'scott'}\n",
      "{'dept': 10, 'ename': 'john'}\n",
      "{'dept': 10, 'ename': 'tom'}\n",
      "dept-20.txt wt\n",
      "{'dept': 20, 'ename': 'bob'}\n",
      "{'dept': 20, 'ename': 'maria'}\n"
     ]
    }
   ],
   "source": [
    "for dept, dept_group in dept_emp_groups:\n",
    "    print(\"dept-%s.txt\" % dept, \"wt\")\n",
    "    print(\"\\n\".join(str(e) for e in dept_group))"
   ]
  },
  {
   "cell_type": "code",
   "execution_count": null,
   "metadata": {},
   "outputs": [],
   "source": []
  }
 ],
 "metadata": {
  "kernelspec": {
   "display_name": "Python 3",
   "language": "python",
   "name": "python3"
  },
  "language_info": {
   "codemirror_mode": {
    "name": "ipython",
    "version": 3
   },
   "file_extension": ".py",
   "mimetype": "text/x-python",
   "name": "python",
   "nbconvert_exporter": "python",
   "pygments_lexer": "ipython3",
   "version": "3.7.4"
  }
 },
 "nbformat": 4,
 "nbformat_minor": 2
}
