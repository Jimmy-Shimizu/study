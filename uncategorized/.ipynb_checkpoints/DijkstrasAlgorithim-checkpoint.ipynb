{
 "cells": [
  {
   "cell_type": "code",
   "execution_count": 4,
   "metadata": {},
   "outputs": [],
   "source": [
    "import numpy as np"
   ]
  },
  {
   "cell_type": "code",
   "execution_count": 21,
   "metadata": {},
   "outputs": [
    {
     "name": "stdout",
     "output_type": "stream",
     "text": [
      "[[ 0.  7.  9.  0.  0. 14.]\n",
      " [ 7.  0. 10. 15.  0.  0.]\n",
      " [ 9. 10.  0. 11.  0.  2.]\n",
      " [ 0. 15. 11.  0.  6.  0.]\n",
      " [ 0.  0.  0.  6.  0.  9.]\n",
      " [14.  0.  2.  0.  9.  0.]]\n"
     ]
    }
   ],
   "source": [
    "#距離の情報を行列に格納\n",
    "node_dis = np.zeros((6,6))\n",
    "node_dis[0][1] = 7\n",
    "node_dis[0][2] = 9\n",
    "node_dis[0][5] = 14\n",
    "node_dis[1][2] = 10\n",
    "node_dis[1][3] = 15\n",
    "node_dis[2][3] = 11\n",
    "node_dis[3][4] = 6\n",
    "node_dis[2][5] = 2\n",
    "node_dis[4][5] = 9\n",
    "node_dis = node_dis + node_dis.T\n",
    "print(node_dis)"
   ]
  },
  {
   "cell_type": "code",
   "execution_count": 47,
   "metadata": {},
   "outputs": [
    {
     "name": "stdout",
     "output_type": "stream",
     "text": [
      "{0: 0, 1: 1000000, 2: 1000000, 3: 1000000, 4: 1000000, 5: 1000000}\n"
     ]
    }
   ],
   "source": [
    "#wikipediaのダイクストラ法に載ってる図で実装\n",
    "#ノード数6,エッジ数9\n",
    "node_num = 6\n",
    "#初期化\n",
    "distance = {}\n",
    "for i in range(node_num):\n",
    "    distance[i] = 1000000\n",
    "distance[0] = 0\n",
    "print(distance)"
   ]
  },
  {
   "cell_type": "code",
   "execution_count": 48,
   "metadata": {
    "scrolled": true
   },
   "outputs": [
    {
     "name": "stdout",
     "output_type": "stream",
     "text": [
      "u 0\n",
      "1 dis 7.0\n",
      "2 dis 9.0\n",
      "5 dis 14.0\n",
      "{1: 7.0, 2: 9.0, 3: 1000000, 4: 1000000, 5: 14.0}\n",
      "u 1\n",
      "3 dis 22.0\n",
      "{2: 9.0, 3: 22.0, 4: 1000000, 5: 14.0}\n",
      "u 2\n",
      "3 dis 20.0\n",
      "5 dis 11.0\n",
      "{3: 20.0, 4: 1000000, 5: 11.0}\n",
      "u 5\n",
      "4 dis 20.0\n",
      "{3: 20.0, 4: 20.0}\n",
      "[0, 1, 2, 5, 4]\n",
      "finished\n"
     ]
    }
   ],
   "source": [
    "rote = []\n",
    "while len(distance) > 0:\n",
    "    u = min(distance, key=distance.get)        \n",
    "    print(\"u\",u)\n",
    "    u_dis = distance[u]\n",
    "    distance.pop(u)\n",
    "    for i in distance:\n",
    "        if distance[i] > u_dis + node_dis[u][i] and node_dis[u][i] != 0:\n",
    "            distance[i] = u_dis + node_dis[u][i]\n",
    "            print(i, \"dis\", distance[i])\n",
    "    print(distance)\n",
    "    rote.append(u)\n",
    "    if rote[-1] == 5 or rote[-1] == 3:\n",
    "        rote.append(4)\n",
    "        print(rote)\n",
    "        print(\"finished\")\n",
    "        break"
   ]
  },
  {
   "cell_type": "markdown",
   "metadata": {},
   "source": [
    "隣り合ったところにしか動かないようにするという制約をこれでちゃんと満たせているのかちょっとわからない  \n",
    "時間がある時にもうちょっとちゃんと触りたい"
   ]
  },
  {
   "cell_type": "code",
   "execution_count": null,
   "metadata": {},
   "outputs": [],
   "source": []
  }
 ],
 "metadata": {
  "kernelspec": {
   "display_name": "Python 3",
   "language": "python",
   "name": "python3"
  },
  "language_info": {
   "codemirror_mode": {
    "name": "ipython",
    "version": 3
   },
   "file_extension": ".py",
   "mimetype": "text/x-python",
   "name": "python",
   "nbconvert_exporter": "python",
   "pygments_lexer": "ipython3",
   "version": "3.7.4"
  }
 },
 "nbformat": 4,
 "nbformat_minor": 2
}
