{
 "cells": [
  {
   "cell_type": "markdown",
   "metadata": {},
   "source": [
    "# ●distant supervision\n"
   ]
  },
  {
   "cell_type": "markdown",
   "metadata": {},
   "source": [
    "# ●transfer learning\n",
    "転移学習  \n",
    "### Knowledge-Augmented Language Model and Its Application to Unsupervised Named-Entity Recognition  \n",
    "同じラベルタイプ(person, location)同士ではコンテクストの学習を共有できる  \n",
    "- Knowledge-Augmented Language Model (KALM) \n",
    "- knowledge base (KB)  \n",
    "\n",
    "*train with an end-to-end predictive objective optimizing the perplexity of text?*\n",
    "- ここよくわからない  \n",
    "\n",
    "別データでコンテクストの学習をさせておく事で教師なしで教師ありに匹敵する学習結果が出せる\n",
    "### Cheap Translation for Cross-Lingual Named Entity Recognition\n",
    "リソースが十分にある言語のデータを使って少ないデータしかない言語の学習を行う  \n",
    "十分な語彙辞書がある言語のデータから一般化したNERモデルを構築する  \n",
    "特に対象となる言語のwikipedia記事に対して有効\n",
    "\n",
    "### Leveraging Linguistic Structures for Named Entity Recognition with Bidirectional Recursive Neural Networks\n",
    "1. 先に文法構造を解析して，文法上どういう分け方が可能かを計算  \n",
    "2. 1の情報をもとにどこがentityか計算\n",
    "めっちゃ気になるが読んで理解できる気がしない"
   ]
  },
  {
   "cell_type": "markdown",
   "metadata": {},
   "source": [
    "# ●labeling function\n",
    "semantic role labeling(SRL)  \n",
    "→斎藤くんの研究みたいなやつ．文章に意味タグをつけて文章の意味を取れるようにする(構文解析に近い)  \n",
    "e.g. \"Mary sold the book to John\"でMaryは行為者，Johnが被行為者，soldが行為，bookが行為対象  \n",
    "\n",
    "### Linguistically-Informed Self-Attention for Semantic Role Labeling\n",
    "SRLで構文木情報を与えると各段に精度が上がることが知られている  \n",
    "→提案手法のlinguistically-informed self-attention(LISA)では依存関係解析，品詞タグ付け，術後検出，SRLの全学習を行う  \n",
    "どうやってやるのか技術的なことを勉強するために読んだ方が良さそう\n"
   ]
  },
  {
   "cell_type": "markdown",
   "metadata": {},
   "source": [
    "# ●function supervision\n",
    "\n"
   ]
  },
  {
   "cell_type": "markdown",
   "metadata": {},
   "source": [
    "# その他(?)\n",
    "\n",
    "### Named Entity Recognition with Partially Annotated Training Data\n",
    "一部しかラベリングされていないデータセットを使って学習  \n",
    "K2Oの重みを小さくすることで精度向上  \n",
    "多分読んだ方が良い\n",
    "\n",
    "### On the Strength of Character Language Models for Multilingual Named Entity Recognition\n",
    "文字単位で名前と非名前の単語の性質について解析したやつ\n",
    "\n"
   ]
  },
  {
   "cell_type": "markdown",
   "metadata": {},
   "source": [
    "### 要調べ  \n",
    "- end-to-end predictive objective"
   ]
  },
  {
   "cell_type": "markdown",
   "metadata": {},
   "source": [
    "画像切り出しの技術が使えるというのは結構いい発見なのかもしれない  \n",
    "こっちもどんどん論文読んでいきたい"
   ]
  }
 ],
 "metadata": {
  "kernelspec": {
   "display_name": "Python 3",
   "language": "python",
   "name": "python3"
  },
  "language_info": {
   "codemirror_mode": {
    "name": "ipython",
    "version": 3
   },
   "file_extension": ".py",
   "mimetype": "text/x-python",
   "name": "python",
   "nbconvert_exporter": "python",
   "pygments_lexer": "ipython3",
   "version": "3.7.4"
  }
 },
 "nbformat": 4,
 "nbformat_minor": 2
}
