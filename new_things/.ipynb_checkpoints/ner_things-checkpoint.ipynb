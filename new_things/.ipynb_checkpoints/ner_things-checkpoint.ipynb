{
 "cells": [
  {
   "cell_type": "markdown",
   "metadata": {},
   "source": [
    "### distant supervision\n"
   ]
  },
  {
   "cell_type": "markdown",
   "metadata": {},
   "source": [
    "## transfer learning\n",
    "転移学習  \n",
    "### Knowledge-Augmented Language Model and Its Application to Unsupervised Named-Entity Recognition  \n",
    "同じラベルタイプ(person, location)同士ではコンテクストの学習を共有できる  \n",
    "- Knowledge-Augmented Language Model (KALM) \n",
    "- knowledge base (KB)  \n",
    "\n",
    "*train with an end-to-end predictive objective optimizing the perplexity of text?*\n",
    "- ここよくわからない  \n",
    "\n",
    "別データでコンテクストの学習をさせておく事で教師なしで教師ありに匹敵する学習結果が出せる\n",
    "### Cheap Translation for Cross-Lingual Named Entity Recognition\n",
    "リソースが十分にある言語のデータを使って少ないデータしかない言語の学習を行う  \n",
    "十分な語彙辞書がある言語のデータから一般化したNERモデルを構築する  \n",
    "特に対象となる言語のwikipedia記事に対して有効"
   ]
  },
  {
   "cell_type": "markdown",
   "metadata": {},
   "source": [
    "### labeling function\n",
    "\n",
    "\n",
    "\n"
   ]
  },
  {
   "cell_type": "markdown",
   "metadata": {},
   "source": [
    "### function supervision\n",
    "\n"
   ]
  },
  {
   "cell_type": "markdown",
   "metadata": {},
   "source": [
    "### distant supervision\n",
    "\n"
   ]
  },
  {
   "cell_type": "markdown",
   "metadata": {},
   "source": [
    "### 要調べ  \n",
    "- end-to-end predictive objective"
   ]
  },
  {
   "cell_type": "markdown",
   "metadata": {},
   "source": [
    "画像切り出しの技術が使えるというのは結構いい発見なのかもしれない  \n",
    "こっちもどんどん論文読んでいきたい"
   ]
  }
 ],
 "metadata": {
  "kernelspec": {
   "display_name": "Python 3",
   "language": "python",
   "name": "python3"
  },
  "language_info": {
   "codemirror_mode": {
    "name": "ipython",
    "version": 3
   },
   "file_extension": ".py",
   "mimetype": "text/x-python",
   "name": "python",
   "nbconvert_exporter": "python",
   "pygments_lexer": "ipython3",
   "version": "3.7.4"
  }
 },
 "nbformat": 4,
 "nbformat_minor": 2
}
