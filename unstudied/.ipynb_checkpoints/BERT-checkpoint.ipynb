{
 "cells": [
  {
   "cell_type": "markdown",
   "metadata": {},
   "source": [
    "## BERT(Bidirectional Encoder Representations from Transformers:Transformer)  \n",
    "\n",
    "自然言語モデルの一つで高い精度を誇る  \n",
    "\n",
    "### マスクされた言語モデル  \n",
    "文章中の任意の単語を隠してそれを予測するように学習する  \n",
    "### 次文予測  \n"
   ]
  },
  {
   "cell_type": "markdown",
   "metadata": {},
   "source": [
    "参考:https://ainow.ai/2019/05/21/167211/"
   ]
  }
 ],
 "metadata": {
  "kernelspec": {
   "display_name": "Python 3",
   "language": "python",
   "name": "python3"
  },
  "language_info": {
   "codemirror_mode": {
    "name": "ipython",
    "version": 3
   },
   "file_extension": ".py",
   "mimetype": "text/x-python",
   "name": "python",
   "nbconvert_exporter": "python",
   "pygments_lexer": "ipython3",
   "version": "3.7.4"
  }
 },
 "nbformat": 4,
 "nbformat_minor": 2
}
